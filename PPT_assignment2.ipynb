{
 "cells": [
  {
   "cell_type": "markdown",
   "id": "f00c8a06-de2a-4785-b563-e9a51c2b048b",
   "metadata": {},
   "source": [
    "Question 1:\n",
    "\n",
    "Given an integer array nums of 2n integers, group these integers into n pairs (a1, b1), (a2, b2),..., (an, bn) such that the sum of min(ai, bi) for all i is maximized. Return the maximized sum.\n",
    "\n",
    "Algorithm:\n",
    "1. Sort the given nums in ascending order\n",
    "2. Initialize a variable max_sum to 0. This variable will store the sum of the minimum value in the pair.\n",
    "3. Iterate over the sorted array nums with step size of 2, considering every second element as the minium value in the pair\n",
    "4. Add the minimum value to max_sum\n",
    "5. Return max_sum\n",
    "\n",
    "Time Complexity: O(n log n) - where n is the length of the input array\n",
    "Space Complexity :O(1)"
   ]
  },
  {
   "cell_type": "code",
   "execution_count": 1,
   "id": "31799c49-9046-479d-afcf-c2d05e2eb47b",
   "metadata": {},
   "outputs": [
    {
     "data": {
      "text/plain": [
       "4"
      ]
     },
     "execution_count": 1,
     "metadata": {},
     "output_type": "execute_result"
    }
   ],
   "source": [
    "def sum_of_array(nums):\n",
    "    nums.sort()\n",
    "    max_sum=0\n",
    "    for i in range(0,len(nums),2):\n",
    "        max_sum+=nums[i]\n",
    "    return max_sum\n",
    "sum_of_array([1,4,3,2])"
   ]
  },
  {
   "cell_type": "markdown",
   "id": "9cb0ab4b-9acd-45c8-9824-74d6cd836548",
   "metadata": {},
   "source": [
    "Question 2 Alice has n candies, where the ith candy is of type candyType[i]. Alice noticed that she started to gain weight, so she visited a doctor. The doctor advised Alice to only eat n / 2 of the candies she has (n is always even). Alice likes her candies very much, and she wants to eat the maximum number of different types of candies while still following the doctor's advice. Given the integer array candyType of length n, return the maximum number of different types of candies she can eat if she only eats n / 2 of them.\n",
    "\n",
    "Algorithm:\n",
    "1. create an empty set called unique_candies to store the unique types of candies.\n",
    "2. iterate over the array candyType and for each candy\n",
    "a) Add it to the unique_candies set\n",
    "b) check if the size of unique_candies is greater than or equal to n/2\n",
    "c) if it is, return n/2 since Alice can eat at most n/2 different types of candies.\n",
    "3. if the loop completes without reaching the limit, return the size of 'unique_candies' since Alice can eat all the unique types of candies she has.\n",
    "\n",
    "Time Complexity: O(n) - where n is the length of the input array\n",
    "Space Comlexity: O(n)"
   ]
  },
  {
   "cell_type": "code",
   "execution_count": 2,
   "id": "5446cf7d-afdc-4bc1-9854-26f3181d1646",
   "metadata": {},
   "outputs": [
    {
     "data": {
      "text/plain": [
       "3"
      ]
     },
     "execution_count": 2,
     "metadata": {},
     "output_type": "execute_result"
    }
   ],
   "source": [
    "def max_Candy(candyType):\n",
    "    unique_candies=set()\n",
    "    lmt=len(candyType)//2\n",
    "    \n",
    "    for candy in candyType:\n",
    "        unique_candies.add(candy)\n",
    "        if len(unique_candies)>=lmt:\n",
    "            return lmt\n",
    "    return len(unique_candies)\n",
    "max_Candy([1,1,2,2,3,3])"
   ]
  },
  {
   "cell_type": "markdown",
   "id": "e15c182e-40db-4771-978a-64c74e3e58ec",
   "metadata": {},
   "source": [
    "Question 3 We define a harmonious array as an array where the difference between its maximum value and its minimum value is exactly 1. Given an integer array nums, return the length of its longest harmonious subsequence among all its possible subsequences. A subsequence of an array is a sequence that can be derived from the array by deleting some or no elements without changing the order of the remaining elements.\n",
    "\n",
    "Algorithm:-\n",
    "1. initialize a dictionary num_counts to keep track of the count of each number in nums\n",
    "2. iterate through nums and update the count of each number in num_counts\n",
    "3. initialize a variable max_length to 0, which will store the length of the logest harmonious susequence found so far\n",
    "4. iterate through the keys in num_counts, and for each key num check if num+1 is also present in num_counts\n",
    "a) if it is, calculate the length of the harmonious subsequence by adding counts of num and num+1\n",
    "b) if the calculated length is greater max_length, update max_length accordingly\n",
    "5. return max_length\n",
    "\n",
    "\n",
    "Time Complexity: O(n)\n",
    "Space Complexity: O(n)"
   ]
  },
  {
   "cell_type": "code",
   "execution_count": 12,
   "id": "25be0815-73ab-4c53-bcfa-12d03fb905bb",
   "metadata": {},
   "outputs": [
    {
     "data": {
      "text/plain": [
       "5"
      ]
     },
     "execution_count": 12,
     "metadata": {},
     "output_type": "execute_result"
    }
   ],
   "source": [
    "def LHS(nums):\n",
    "    counts={}\n",
    "    max_length=0\n",
    "    \n",
    "    for num in nums:\n",
    "        counts[num]=counts.get(num,0)+1\n",
    "    \n",
    "    for num in counts:\n",
    "        if num+1 in counts:\n",
    "            length=counts[num]+counts[num+1]\n",
    "            max_length=max(max_length,length)\n",
    "    return max_length\n",
    "        \n",
    "LHS([1,3,2,2,5,2,3,7])"
   ]
  },
  {
   "cell_type": "markdown",
   "id": "b0141a4a-4e62-49b9-9216-fbdb37b8d627",
   "metadata": {},
   "source": [
    "Question 4:-\n",
    "\n",
    "You have a long flowerbed in which some of the plots are planted, and some are not. However, flowers cannot be planted in adjacent plots. Given an integer array flowerbed containing 0's and 1's, where 0 means empty and 1 means not empty, and an integer n, return true if n new flowers can be planted in the flowerbed without violating the no-adjacent-flowers rule and false otherwise.\n",
    "\n",
    "Algorithm:-\n",
    "1. intialize variable count to 0, which will track the no of new flowers planted\n",
    "2. iterate through flower bed from left to right\n",
    "3. if the current plot is 0 and both the previous and next plots are also 0 (or it is the first plot and the next plot is 0)\n",
    "plant a flower in the current plot and increment count\n",
    "4. if count becomes greater than n, return true as we have successfully planted n new flowers\n",
    "5. afte the loop, return false if we could not plant n new flowers\n",
    "\n",
    "\n",
    "Time Complexity: O(n)\n",
    "Space Complexity: O(1)"
   ]
  },
  {
   "cell_type": "code",
   "execution_count": 13,
   "id": "c0f86eaa-b383-4c15-bb8d-f9cd30d3f116",
   "metadata": {},
   "outputs": [
    {
     "data": {
      "text/plain": [
       "True"
      ]
     },
     "execution_count": 13,
     "metadata": {},
     "output_type": "execute_result"
    }
   ],
   "source": [
    "def Correct_place(flowerbed, n):\n",
    "    count=0\n",
    "    l=len(flowerbed)\n",
    "    for i in range(l):\n",
    "        if(\n",
    "            flowerbed[i]==0 and\n",
    "            (i==0 or flowerbed[i-1]==0) and\n",
    "            (i==l-1 or flowerbed[i+1]==0)\n",
    "        ):\n",
    "            flowerbed[i]=1\n",
    "            count+=1\n",
    "        if count>=n:\n",
    "            return True\n",
    "    return False\n",
    "\n",
    "    \n",
    "Correct_place([1,0,0,0,1],1)"
   ]
  },
  {
   "cell_type": "code",
   "execution_count": 14,
   "id": "791557e1-a159-478a-b24f-52c02f38f31c",
   "metadata": {},
   "outputs": [
    {
     "data": {
      "text/plain": [
       "True"
      ]
     },
     "execution_count": 14,
     "metadata": {},
     "output_type": "execute_result"
    }
   ],
   "source": [
    "Correct_place([1,0,0,0,1,0,0,0,1,1,0,0,0,1,1,1,0,0,1],3)"
   ]
  },
  {
   "cell_type": "markdown",
   "id": "303c1043-8ff8-41e5-8261-56c403c1519f",
   "metadata": {},
   "source": [
    "Question 5\n",
    "\n",
    "Given an integer array nums, find three numbers whose product is maximum and return the maximum product.\n",
    "\n",
    "Algorithm:\n",
    "1. sort the array nums in ascending order\n",
    "2. calculate the product of the last three elements , nums[-1]nums[-2]nums[-3], which gives the maximum possible product of three numbers when the array is sorted.\n",
    "3. calculate the product of the first two elements and the last element, nums[0]nums[1]nums[-1], which gives the maximum possible product of the three numbers when there are negative numnbers in the array that can contribute to the maximum product.\n",
    "4. return the maximum value between the two products calculated in step2 and step3.\n",
    "\n",
    "\n",
    "Time Complexity: O(n log n)\n",
    "Space Complexity: O(1)"
   ]
  },
  {
   "cell_type": "code",
   "execution_count": 15,
   "id": "9187f842-56c6-4417-adad-d542d31152eb",
   "metadata": {},
   "outputs": [
    {
     "data": {
      "text/plain": [
       "6"
      ]
     },
     "execution_count": 15,
     "metadata": {},
     "output_type": "execute_result"
    }
   ],
   "source": [
    "def maximum_value(nums):\n",
    "    nums.sort()\n",
    "    prod1 = nums[-1] * nums[-2] * nums[-3]\n",
    "    prod2 = nums[0] * nums[1] * nums[-1]\n",
    "    return max(prod1, prod2)\n",
    "maximum_value([1,2,3])"
   ]
  },
  {
   "cell_type": "markdown",
   "id": "4e7a07a5-0359-4fca-948b-cf6051e659d6",
   "metadata": {},
   "source": [
    "Question 6 Given an array of integers nums which is sorted in ascending order, and an integer target, write a function to search target in nums. If target exists, then return its index. Otherwise, return -1. You must write an algorithm with O(log n) runtime complexity.\n",
    "\n",
    "Algorithm: 1. take two pointer left and right which represents the left and right boundaries of the search range\n",
    "2. calculate the mid index and compare the target with element mid,\n",
    "a) if target found return the index.\n",
    "b) if the target is smaller than element at mid, update the right pointer to mid-1 to search the left half.\n",
    "c) if the target is larger than element at mid, update the left pointer to mid+1 to search the right half.\n",
    "3. continue this process until the target is found or the search is exhausted\n",
    "\n",
    "Time Complexity: O(logn)"
   ]
  },
  {
   "cell_type": "code",
   "execution_count": 17,
   "id": "1bc6ef80-1e41-4dc3-8a77-ad90bebf8329",
   "metadata": {},
   "outputs": [
    {
     "data": {
      "text/plain": [
       "4"
      ]
     },
     "execution_count": 17,
     "metadata": {},
     "output_type": "execute_result"
    }
   ],
   "source": [
    "def search_num(nums,target):\n",
    "    start=0\n",
    "    end=len(nums)-1\n",
    "    \n",
    "    while start<=end:\n",
    "        mid=start+(end-start)//2\n",
    "        \n",
    "        if nums[mid]==target:\n",
    "            return mid\n",
    "        elif nums[mid]<target:\n",
    "            start=mid+1\n",
    "        else:\n",
    "            end=mid-1\n",
    "    return -1\n",
    "search_num([1,0,3,5,9,12],9)"
   ]
  },
  {
   "cell_type": "markdown",
   "id": "4b09c0a5-c659-4f61-b9d4-f53ef002c85d",
   "metadata": {},
   "source": [
    "Question 7 An array is monotonic if it is either monotone increasing or monotone decreasing. An array nums is monotone increasing if for all i <= j, nums[i] <= nums[j]. An array nums is monotone decreasing if for all i <= j, nums[i] >= nums[j]. Given an integer array nums, return true if the given array is monotonic, or false otherwise.\n",
    "\n",
    "Algorithm:\n",
    "1. Initialize two boolean variables, increasing and decreasing, as True.\n",
    "2. Iterate through the array nums starting from the second element:\n",
    "a) If nums[i] > nums[i-1], set decreasing to False.\n",
    "b) If nums[i] < nums[i-1], set increasing to False.\n",
    "If both conditions are False, break out of the loop early to save unnecessary iterations.\n",
    "3. Return the logical OR of increasing and decreasing.\n",
    "\n",
    "\n",
    "Time Complexity: O(n)"
   ]
  },
  {
   "cell_type": "code",
   "execution_count": 18,
   "id": "2b589bf4-d653-42cf-8b38-db2a2234f58b",
   "metadata": {},
   "outputs": [
    {
     "data": {
      "text/plain": [
       "True"
      ]
     },
     "execution_count": 18,
     "metadata": {},
     "output_type": "execute_result"
    }
   ],
   "source": [
    "def isMonotonic_array(nums):\n",
    "    inc = dec = True\n",
    "\n",
    "    for i in range(1, len(nums)):\n",
    "        if nums[i] > nums[i-1]:\n",
    "            dec = False\n",
    "        if nums[i] < nums[i-1]:\n",
    "            inc = False\n",
    "\n",
    "    return inc or dec\n",
    "isMonotonic_array([1,2,2,3])"
   ]
  },
  {
   "cell_type": "code",
   "execution_count": 19,
   "id": "f5912bde-59f0-4d27-81e1-351e4a59f22e",
   "metadata": {},
   "outputs": [
    {
     "data": {
      "text/plain": [
       "False"
      ]
     },
     "execution_count": 19,
     "metadata": {},
     "output_type": "execute_result"
    }
   ],
   "source": [
    "isMonotonic_array([1,2,2,12,3,3,3])"
   ]
  },
  {
   "cell_type": "markdown",
   "id": "d4643a73-f134-49e8-a19d-45b51f8ef2e9",
   "metadata": {},
   "source": [
    "Question 8\n",
    "\n",
    "You are given an integer array nums and an integer k. In one operation, you can choose any index i where 0 <= i < nums.length and change nums[i] to nums[i] + x where x is an integer from the range [-k, k]. You can apply this operation at most once for each index i. The score of nums is the difference between the maximum and minimum elements in nums. Return the minimum score of nums after applying the mentioned operation at most once for each index in it.\n",
    "\n",
    "Algorithm:\n",
    "1. Initialize the minimum and maximum values as the first element of nums.\n",
    "2. Iterate through the array from the second element:\n",
    "a) Update the minimum value if the current element is smaller than the current minimum value.\n",
    "b) Update the maximum value if the current element is larger than the current maximum value.\n",
    "3. Calculate the initial score as the difference between the maximum and minimum values.\n",
    "4. If the score is already 0, return 0 as no operation is needed.\n",
    "5. Iterate through the array again:\n",
    "a) For each element, try applying the operation by adding values from the range [-k, k].\n",
    "b) Calculate the new score after applying the operation at each index.\n",
    "c) Keep track of the minimum score among all the operations.\n",
    "6. Return the minimum score obtained.\n",
    "\n",
    "\n",
    "Time Complexity: O n2"
   ]
  },
  {
   "cell_type": "code",
   "execution_count": 11,
   "id": "9c2605f2-8c4a-4f1c-87c5-b3e0c5b6fc11",
   "metadata": {},
   "outputs": [
    {
     "data": {
      "text/plain": [
       "0"
      ]
     },
     "execution_count": 11,
     "metadata": {},
     "output_type": "execute_result"
    }
   ],
   "source": [
    "def min_Score(nums, k):\n",
    "    minimum = maximum = nums[0]\n",
    "    for i in range(1, len(nums)):\n",
    "        minimum = min(minimum, nums[i])\n",
    "        maximum = max(maximum, nums[i])\n",
    "\n",
    "    initial_score = maximum - minimum\n",
    "    if initial_score == 0:\n",
    "        return 0\n",
    "\n",
    "    min_score = initial_score\n",
    "    for i in range(len(nums)):\n",
    "        for x in range(-k, k + 1):\n",
    "            new_nums = nums.copy()\n",
    "            n_nums[i] += x\n",
    "            min_score = min(min_score, max(modified_nums) - min(modified_nums))\n",
    "\n",
    "    return min_score\n",
    "minimumScore([1],0)"
   ]
  },
  {
   "cell_type": "code",
   "execution_count": null,
   "id": "84a3b44c-a6a0-4375-870f-94c0cc597a4e",
   "metadata": {},
   "outputs": [],
   "source": []
  }
 ],
 "metadata": {
  "kernelspec": {
   "display_name": "Python 3 (ipykernel)",
   "language": "python",
   "name": "python3"
  },
  "language_info": {
   "codemirror_mode": {
    "name": "ipython",
    "version": 3
   },
   "file_extension": ".py",
   "mimetype": "text/x-python",
   "name": "python",
   "nbconvert_exporter": "python",
   "pygments_lexer": "ipython3",
   "version": "3.10.8"
  }
 },
 "nbformat": 4,
 "nbformat_minor": 5
}
