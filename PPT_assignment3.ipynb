{
 "cells": [
  {
   "cell_type": "markdown",
   "id": "df22311a-6042-4f7d-a9a7-70c1f8b7e486",
   "metadata": {},
   "source": [
    "Question 1.\n",
    "Given an integer array nums of length n and an integer target, find three integers in nums such that the sum is closest to the target. Return the sum of the three integers.\n",
    "\n",
    "You may assume that each input would have exactly one solution.\n",
    "\n",
    "Algorithm:\n",
    "1. Sort the array 'nums' in ascending order. This allows us to apply two pointer approach effectively\n",
    "2. initialize a variable 'closest sum' to store the sum of the three integers closest to the target. Set it initally to a large value.\n",
    "3.iterate through nums from left to right, considering each element as a potential first element of the triplet.\n",
    "4. for each nums[i],set two pointers, left and right, intially point to i+1 and n-1(the last element), respectively\n",
    "5. while left is less than right, calculate the sum of three integers:current_sum=nums[i]+nums[left]+nums[right]\n",
    "6. if the absolute difference between curr_sum and the target is smaller than the absolute difference between closest_sum and the target, update closest_sum to curr_sum\n",
    "7. if curr_sum is greater than target, decrement right to try smaller values.\n",
    "8. if curr_sum is smaller than target, increment left to try larger values.\n",
    "9. if curr_sum is equal to the target, return target since we have found an exact match.\n",
    "10. continue steps 5-9 until left becomes greater than or equal to right\n",
    "11. finally, return colsest_sum as the sum of three integers closest to the target.\n",
    "\n",
    "\n",
    "Time Complexity: O(n^2)\n",
    "\n",
    "Space complexity: O(1)"
   ]
  },
  {
   "cell_type": "code",
   "execution_count": 22,
   "id": "75dd9315-0239-42a4-8b20-7e64884a74ee",
   "metadata": {},
   "outputs": [],
   "source": [
    "def sum_of_three(nums,target):\n",
    "    nums.sort()\n",
    "    n=len(nums)\n",
    "    nearest_sum=float('inf')\n",
    "    \n",
    "    for i in range(n -2):\n",
    "        left=i+1\n",
    "        right=n-1\n",
    "        \n",
    "        while left<right:\n",
    "            actual_sum=nums[i]+nums[left]+nums[right]\n",
    "            \n",
    "            if actual_sum==target:\n",
    "                return target\n",
    "            \n",
    "            if abs(actual_sum-target)<abs(nearest_sum-target):\n",
    "                nearest_sum=actual_sum\n",
    "                \n",
    "            if actual_sum>target:\n",
    "                right-=1\n",
    "            else:\n",
    "                left+=1\n",
    "    return nearest_sum"
   ]
  },
  {
   "cell_type": "code",
   "execution_count": 23,
   "id": "1a5f8e10-981a-4d94-9dfa-7ffb03738099",
   "metadata": {},
   "outputs": [
    {
     "data": {
      "text/plain": [
       "2"
      ]
     },
     "execution_count": 23,
     "metadata": {},
     "output_type": "execute_result"
    }
   ],
   "source": [
    "sum_of_three([-1,2,1,-4],1)"
   ]
  },
  {
   "cell_type": "code",
   "execution_count": 24,
   "id": "e1d1dc99-74b1-41c3-a0e5-c2825cdbd579",
   "metadata": {},
   "outputs": [
    {
     "data": {
      "text/plain": [
       "3"
      ]
     },
     "execution_count": 24,
     "metadata": {},
     "output_type": "execute_result"
    }
   ],
   "source": [
    "sum_of_three([-1,2,1,-2,3,-4,4],3)"
   ]
  },
  {
   "cell_type": "markdown",
   "id": "7fc03400-31a0-4e09-8501-6fe2cb44fb61",
   "metadata": {},
   "source": [
    "Question 2.\n",
    "Given an array nums of n integers, return an array of all the unique quadruplets [nums[a], nums[b], nums[c], nums[d]] such that: ● 0 <= a, b, c, d < n ● a, b, c, and d are distinct. ● nums[a] + nums[b] + nums[c] + nums[d] == target You may return the answer in any order.\n",
    "\n",
    "Algorithm:\n",
    "1. Sort the array nums in ascending order. This allows us to efficiently handle duplicates and apply the two-pointer approach.\n",
    "2. Initialize an empty list quadruplets to store the unique quadruplets.\n",
    "3. Iterate through the array nums using the first pointer a from 0 to n - 4. This ensures we have enough elements for the remaining pointers.\n",
    "4. If a is greater than 0 and nums[a] is equal to nums[a-1], continue to the next iteration to avoid duplicates.\n",
    "5. Iterate through the array again using the second pointer b from a+1 to n - 3.\n",
    "6. If b is greater than a+1 and nums[b] is equal to nums[b-1], continue to the next iteration to avoid duplicates.\n",
    "7. Set two pointers, left and right, initially pointing to b+1 and n-1 (the last element), respectively.\n",
    "8. While left is less than right, calculate the sum of the four integers: curr_sum = nums[a] + nums[b] + nums[left] + nums[right].\n",
    "9. If curr_sum is equal to the target, add [nums[a], nums[b], nums[left], nums[right]] to the quadruplets list.\n",
    "10. If curr_sum is less than the target, increment left to try larger values.\n",
    "11. If curr_sum is greater than the target, decrement right to try smaller values.\n",
    "12. While incrementing or decrementing left and right, skip over any duplicates to avoid duplicates in the resulting quadruplets.\n",
    "13. Continue steps 8-12 until left becomes greater than or equal to right.\n",
    "14. Continue steps 5-13 for the remaining elements in nums.\n",
    "15. Finally, return the quadruplets list containing all the unique quadruplets.\n",
    "\n",
    "\n",
    "Time Complexity: O(n^3)\n",
    "Space Complexity: O(n)"
   ]
  },
  {
   "cell_type": "code",
   "execution_count": 25,
   "id": "b77f7e62-da7e-4adc-b7d7-daff724b880a",
   "metadata": {},
   "outputs": [
    {
     "data": {
      "text/plain": [
       "[[-2, -1, 1, 2], [-2, 0, 0, 2], [-1, 0, 0, 1]]"
      ]
     },
     "execution_count": 25,
     "metadata": {},
     "output_type": "execute_result"
    }
   ],
   "source": [
    "def sum_of_four(nums,target):\n",
    "    nums.sort()\n",
    "    n=len(nums)\n",
    "    quadruplets=[]\n",
    "    \n",
    "    for a in range(n-3):\n",
    "        if a>0 and nums[a]==nums[a-1]:\n",
    "            continue\n",
    "        for b in range(a+1, n-2):\n",
    "            if b>a+1 and nums[b]==nums[b-1]:\n",
    "                continue\n",
    "            left=b+1\n",
    "            right=n-1\n",
    "            \n",
    "            while left<right:\n",
    "                actual_sum=nums[a]+nums[b]+nums[left]+nums[right]\n",
    "                \n",
    "                if actual_sum==target:\n",
    "                    quadruplets.append([nums[a],nums[b],nums[left],nums[right]])\n",
    "                \n",
    "                    while left<target and nums[left]==nums[left+1]:\n",
    "                        left+=1\n",
    "                    while left<target and nums[left]==nums[right-1]:\n",
    "                        right-=1\n",
    "                    \n",
    "                    left+=1\n",
    "                    right-=1\n",
    "                \n",
    "                elif actual_sum<target:\n",
    "                    left+=1\n",
    "                else:\n",
    "                    right-=1\n",
    "    return quadruplets\n",
    "\n",
    "sum_of_four([1,0,-1,0,-2,2],0)"
   ]
  },
  {
   "cell_type": "markdown",
   "id": "86e78570-c345-4442-a276-58bc6a92f00b",
   "metadata": {},
   "source": [
    "Question 3\n",
    "A permutation of an array of integers is an arrangement of its members into a sequence or linear order. For example, for arr = [1,2,3], the following are all the permutations of arr: [1,2,3], [1,3,2], [2, 1, 3], [2, 3, 1], [3,1,2], [3,2,1]. The next permutation of an array of integers is the next lexicographically greater permutation of its integer. More formally, if all the permutations of the array are sorted in one container according to their lexicographical order, then the next permutation of that array is the permutation that follows it in the sorted container. If such an arrangement is not possible, the array must be rearranged as the lowest possible order (i.e., sorted in ascending order). ● For example, the next permutation of arr = [1,2,3] is [1,3,2]. ● Similarly, the next permutation of arr = [2,3,1] is [3,1,2]. ● While the next permutation of arr = [3,2,1] is [1,2,3] because [3,2,1] does not have a lexicographical larger rearrangement. Given an array of integers nums, find the next permutation of nums. The replacement must be in place and use only constant extra memory.\n",
    "\n",
    "Algorithm: 1. starting from the right most element of nums, find first pair of adjacent elements (i,i+1) such that nums[i]nums[i+1] this indicates the first dip in the sequence.\n",
    "2. If no such pair is found, it means the array is in descending order, and it represents the last permutation.\n",
    "In this case, reverse the entire array to obtain the lowest possible order and return.\n",
    "3. If a pair (i, i+1) is found, it means there is a possible lexicographically greater permutation.\n",
    "4. Starting from the rightmost element, find the first element j that is greater than nums[i]. Swap nums[i] with nums[j].\n",
    "5. Reverse the subarray starting from i+1 to the end of the array. This step ensures that the subarray becomes the smallest possible permutation, as it is in descending order after the swap.\n",
    "6. The resulting array is the next permutation.\n",
    "\n",
    "\n",
    "Time complexity- O(n)\n",
    "Space Complexity- O(1)"
   ]
  },
  {
   "cell_type": "code",
   "execution_count": 29,
   "id": "7ffea092-10e0-447f-9332-b1c9eb426e23",
   "metadata": {},
   "outputs": [],
   "source": [
    "def nextPerm(nums):\n",
    "    n = len(nums)\n",
    "    \n",
    "    i = n - 2\n",
    "    while i >= 0 and nums[i] >= nums[i + 1]:\n",
    "        i -= 1\n",
    "\n",
    "    if i >= 0:\n",
    "        \n",
    "        j = n - 1\n",
    "        while j > i and nums[j] <= nums[i]:\n",
    "            j -= 1\n",
    "\n",
    "        nums[i], nums[j] = nums[j], nums[i]\n",
    "           \n",
    "    st = i + 1\n",
    "    end = n - 1\n",
    "    while st < end:\n",
    "        nums[st], nums[end] = nums[end], nums[st]\n",
    "        st += 1\n",
    "        end -= 1\n",
    "\n",
    "    return nums\n"
   ]
  },
  {
   "cell_type": "code",
   "execution_count": 30,
   "id": "db80b29e-7b95-48f4-bec6-c6c57176a6dd",
   "metadata": {},
   "outputs": [
    {
     "data": {
      "text/plain": [
       "[1, 3, 2]"
      ]
     },
     "execution_count": 30,
     "metadata": {},
     "output_type": "execute_result"
    }
   ],
   "source": [
    "nextPerm([1,2,3])"
   ]
  },
  {
   "cell_type": "code",
   "execution_count": 31,
   "id": "52bef432-c9aa-445a-b5a9-a0f60126acd2",
   "metadata": {},
   "outputs": [
    {
     "data": {
      "text/plain": [
       "[3, 1, 2]"
      ]
     },
     "execution_count": 31,
     "metadata": {},
     "output_type": "execute_result"
    }
   ],
   "source": [
    "nextPerm([2,3,1])"
   ]
  },
  {
   "cell_type": "code",
   "execution_count": 32,
   "id": "f95ad2ad-145a-40e1-bc58-dd8214ecfc25",
   "metadata": {},
   "outputs": [
    {
     "data": {
      "text/plain": [
       "[3, 2, 1]"
      ]
     },
     "execution_count": 32,
     "metadata": {},
     "output_type": "execute_result"
    }
   ],
   "source": [
    "nextPerm([3,1,2])"
   ]
  },
  {
   "cell_type": "code",
   "execution_count": 33,
   "id": "df318dc6-23b1-4229-b5e6-02bd30a494fe",
   "metadata": {},
   "outputs": [
    {
     "data": {
      "text/plain": [
       "[1, 2, 3]"
      ]
     },
     "execution_count": 33,
     "metadata": {},
     "output_type": "execute_result"
    }
   ],
   "source": [
    "nextPerm([3,2,1])"
   ]
  },
  {
   "cell_type": "markdown",
   "id": "752a4780-3968-4e98-962e-1a9020d011ee",
   "metadata": {},
   "source": [
    "Question 4.\n",
    "Given a sorted array of distinct integers and a target value, return the index if the target is found. If not, return the index where it would be if it were inserted in order. You must write an algorithm with O(log n) runtime complexity.\n",
    "\n",
    "Algorithm:\n",
    "1. initialize two pointers, left and right, pointing to the start and end of the array respectively.\n",
    "2. while left is less than or equal to right, do the following steps\n",
    "a) calculate the middle index as mid using the formula: mid=left+(right-left)//2\n",
    "b) if the value at middle index is equal to target, return the middle index\n",
    "c) if the value at middle index is greater than the target, set right to mid-1 to search in the left half of the array\n",
    "d) if the value at middle index is lesser than the target, set left to mid+1 to search in the right half of the array\n",
    "3. if the target value is not found in the array, the value should be inserted at the index left. return left as the index where the target would be inserted.\n",
    "\n",
    "time complexity: O(log n)"
   ]
  },
  {
   "cell_type": "code",
   "execution_count": 34,
   "id": "59da4b81-476e-49d1-b816-824e3df323b2",
   "metadata": {},
   "outputs": [],
   "source": [
    "def searchInsert(nums,target):\n",
    "    st=0\n",
    "    end=len(nums)-1\n",
    "    \n",
    "    while st<=end:\n",
    "        mid=st+(end-st)//2\n",
    "        \n",
    "        if nums[mid]==target:\n",
    "            return mid\n",
    "        elif nums[mid]<target:\n",
    "            st=mid+1\n",
    "        elif nums[mid]>target:\n",
    "            end=mid-1\n",
    "    return st\n",
    "            "
   ]
  },
  {
   "cell_type": "code",
   "execution_count": 35,
   "id": "db5e3ba2-5939-495f-8479-d9dca1f5a217",
   "metadata": {},
   "outputs": [
    {
     "data": {
      "text/plain": [
       "2"
      ]
     },
     "execution_count": 35,
     "metadata": {},
     "output_type": "execute_result"
    }
   ],
   "source": [
    "searchInsert([1,3,5,6],5)"
   ]
  },
  {
   "cell_type": "code",
   "execution_count": 36,
   "id": "fce78b67-02e5-4631-a8c5-f4739f1914f7",
   "metadata": {},
   "outputs": [
    {
     "data": {
      "text/plain": [
       "12"
      ]
     },
     "execution_count": 36,
     "metadata": {},
     "output_type": "execute_result"
    }
   ],
   "source": [
    "searchInsert([1,3,5,6,10,2,4,5,6,23,56,33,3455,],56)"
   ]
  },
  {
   "cell_type": "code",
   "execution_count": 37,
   "id": "8cb7caa5-3878-4d33-a8de-81255ef52373",
   "metadata": {},
   "outputs": [
    {
     "data": {
      "text/plain": [
       "7"
      ]
     },
     "execution_count": 37,
     "metadata": {},
     "output_type": "execute_result"
    }
   ],
   "source": [
    "searchInsert([1,3,5,6,10,2,4,5,6,23,56,33,3455,],5)"
   ]
  },
  {
   "cell_type": "markdown",
   "id": "9e37687d-7c60-441e-8f61-89877419c1a3",
   "metadata": {},
   "source": [
    "Question 5.\n",
    "You are given a large integer represented as an integer array digits, where each digits[i] is the ith digit of the integer. The digits are ordered from most significant to least significant in left-to-right order. The large integer does not contain any leading 0's. Increment the large integer by one and return the resulting array of digits.\n",
    "\n",
    "Algorithm:\n",
    "1. Start from the rightmost digit of the array, which is the least significant digit.\n",
    "2. Initialize a carry variable as 1 to add to the least significant digit.\n",
    "3. Iterate through the digits from right to left.\n",
    "a. Add the carry to the current digit.\n",
    "b. If the resulting digit is 10, set it to 0 and update the carry to 1.\n",
    "c. If the resulting digit is less than 10, update the carry to 0 and break the loop.\n",
    "4.If the carry is still 1 after the iteration, it means the most significant digit is 9 and needs an additional digit.\n",
    "5.Create a new array with a length one greater than the original array and set the most significant digit to 1.\n",
    "6.Copy the digits from the original array to the new array starting from index 1.\n",
    "7.Return the new array.\n",
    "\n",
    "\n",
    "Time Complexity: O(n)\n",
    "space complexity: O(n)"
   ]
  },
  {
   "cell_type": "code",
   "execution_count": 38,
   "id": "f32ad565-f475-42fb-adf4-f22e0cf61da0",
   "metadata": {},
   "outputs": [],
   "source": [
    "def add_one(digits):\n",
    "    n=len(digits)\n",
    "    carry=1\n",
    "    \n",
    "    for i in range(n-1, -1,-1):\n",
    "        digits[i]+=carry\n",
    "        if digits[i]==0:\n",
    "            digits[i]=0\n",
    "            carry=1\n",
    "        else:\n",
    "            carry=0\n",
    "            break\n",
    "        if carry==1:\n",
    "            return[1]+digits\n",
    "    return digits"
   ]
  },
  {
   "cell_type": "code",
   "execution_count": 39,
   "id": "900cb3c1-011f-4820-a4c3-8226a4d05ac9",
   "metadata": {},
   "outputs": [
    {
     "data": {
      "text/plain": [
       "[1, 2, 4]"
      ]
     },
     "execution_count": 39,
     "metadata": {},
     "output_type": "execute_result"
    }
   ],
   "source": [
    "add_one([1,2,3])"
   ]
  },
  {
   "cell_type": "markdown",
   "id": "76106dcb-d170-4336-997b-53c6a3e60535",
   "metadata": {},
   "source": [
    "Question 6.\n",
    "Given a non-empty array of integers nums, every element appears twice except for one. Find that single one. You must implement a solution with a linear runtime complexity and use only constant extra space.\n",
    "\n",
    "Algorithm:\n",
    "1. initialize variable result to 0\n",
    "2. iterate through each element num in the array nums\n",
    "3. Update result by performing the bitwise XOR operation between result and num. This will cancel out the pairs of elements that appear twice, leaving only the single element that appears once.\n",
    "4. After iterating through all the elements, result will hold the value of the single element that appears only once.\n",
    "5. Return result.\n",
    "time complexity- O(n)\n",
    "space complexity- O(1)"
   ]
  },
  {
   "cell_type": "code",
   "execution_count": 40,
   "id": "419ecb7f-0e30-40b4-8141-2d368a8712e9",
   "metadata": {},
   "outputs": [
    {
     "data": {
      "text/plain": [
       "1"
      ]
     },
     "execution_count": 40,
     "metadata": {},
     "output_type": "execute_result"
    }
   ],
   "source": [
    "def single_elem(nums):\n",
    "    result=0\n",
    "    \n",
    "    for num in nums:\n",
    "        result^=num\n",
    "    return result\n",
    "single_elem([2,2,1])"
   ]
  },
  {
   "cell_type": "markdown",
   "id": "99dd39e3-192d-4e16-bd44-1072f996c21b",
   "metadata": {},
   "source": [
    "Question 7\n",
    "You are given an inclusive range [lower, upper] and a sorted unique integer array nums, where all elements are within the inclusive range. A number x is considered missing if x is in the range [lower, upper] and x is not in nums Return the shortest sorted list of ranges that exactly covers all the missing numbers. That is, no element of nums is included in any of the ranges, and each missing number is covered by one of the ranges.\n",
    "\n",
    "Algorithm:\n",
    "1. Initialize an empty list called result to store the ranges.\n",
    "2. Set a variable start to lower, representing the start of the current range.\n",
    "3. Iterate through the range [lower, upper] (inclusive).\n",
    "a. If the current number is present in the nums array, it is not a missing number, so we move to the next number.\n",
    "b. If the current number is not present in the nums array, it is a missing number.\n",
    "- If the current number is consecutive with the previous number, update the end of the current range.\n",
    "\n",
    "If the current number is not consecutive with the previous number, we have found a new range. Append the previous\n",
    "range to result and update the start of the new range.\n",
    "After the iteration, if there was a range that was in progress, append the final range to result.\n",
    "Return result.\n",
    "\n",
    "\n",
    "time complexity- O(k)\n",
    "space complexity- O(1)\n"
   ]
  },
  {
   "cell_type": "code",
   "execution_count": 41,
   "id": "69a48e64-3417-4bc5-b1cb-136c04c12ee3",
   "metadata": {},
   "outputs": [
    {
     "data": {
      "text/plain": [
       "['0', '2', '4 to 49', '51 to 74', '76 to 99']"
      ]
     },
     "execution_count": 41,
     "metadata": {},
     "output_type": "execute_result"
    }
   ],
   "source": [
    "def missing_ranges(nums, lower, upper):\n",
    "    result = []\n",
    "    start = lower\n",
    "\n",
    "    for num in range(lower, upper + 1):\n",
    "        if num in nums:\n",
    "            if num > start:\n",
    "                result.append(get_range(start, num - 1))\n",
    "                start = num + 1\n",
    "        else:\n",
    "            continue\n",
    "\n",
    "    if start <= upper:\n",
    "        result.append(get_range(start, upper))\n",
    "\n",
    "    return result\n",
    "\n",
    "def get_range(start, end):\n",
    "    if start == end:\n",
    "        return str(start)\n",
    "    else:\n",
    "        return str(start) + \" to \" + str(end)\n",
    "missing_ranges([0,1,3,50,75],0,99)"
   ]
  },
  {
   "cell_type": "markdown",
   "id": "5f47673e-abff-4a9b-9a87-7ddc063fbf8b",
   "metadata": {},
   "source": [
    "Question 8.\n",
    "Given an array of meeting time intervals where intervals[i] = [starti, endi], determine if a person could attend all meetings.\n",
    "\n",
    "Algorithm:\n",
    "1.Sort the array of meeting time intervals based on the start time of each interval.\n",
    "2. Iterate through the sorted intervals starting from the second interval.\n",
    "3. For each interval, check if the start time is less than or equal to the end time of the previous interval. If it is, there is an overlap, and the person cannot attend all meetings. Return False.\n",
    "4. If the iteration completes without finding any overlaps, return True, indicating that the person can attend all meetings.\n",
    "\n",
    "\n",
    "time complexity-O(n log n)\n",
    "space complexity-O(1)"
   ]
  },
  {
   "cell_type": "code",
   "execution_count": 42,
   "id": "e96cad95-e88e-41e8-9621-fb05aecefa46",
   "metadata": {},
   "outputs": [
    {
     "data": {
      "text/plain": [
       "False"
      ]
     },
     "execution_count": 42,
     "metadata": {},
     "output_type": "execute_result"
    }
   ],
   "source": [
    "def attendAll(intervals):\n",
    "    intervals.sort(key=lambda x: x[0])\n",
    "\n",
    "    for i in range(1, len(intervals)):\n",
    "        if intervals[i][0] < intervals[i-1][1]:\n",
    "            return False\n",
    "\n",
    "    return True\n",
    "attendAll([[0,30],[5,10],[15,20]])"
   ]
  },
  {
   "cell_type": "code",
   "execution_count": null,
   "id": "4c399c15-7e61-440e-990b-0b395033bf46",
   "metadata": {},
   "outputs": [],
   "source": []
  }
 ],
 "metadata": {
  "kernelspec": {
   "display_name": "Python 3 (ipykernel)",
   "language": "python",
   "name": "python3"
  },
  "language_info": {
   "codemirror_mode": {
    "name": "ipython",
    "version": 3
   },
   "file_extension": ".py",
   "mimetype": "text/x-python",
   "name": "python",
   "nbconvert_exporter": "python",
   "pygments_lexer": "ipython3",
   "version": "3.10.8"
  }
 },
 "nbformat": 4,
 "nbformat_minor": 5
}
