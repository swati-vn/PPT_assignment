{
 "cells": [
  {
   "cell_type": "markdown",
   "id": "f80daf62-c76b-4df7-af01-9bc055a65fc7",
   "metadata": {},
   "source": [
    "Question 1\n",
    "\n",
    "A permutation perm of n + 1 integers of all the integers in the range [0, n] can be represented as a string s of length n where:\n",
    "\n",
    "s[i] == 'I' if perm[i] < perm[i + 1], and\n",
    "s[i] == 'D' if perm[i] > perm[i + 1].\n",
    "Given a string s, reconstruct the permutation perm and return it. If there are multiple valid permutations perm, return any of them.\n",
    "\n",
    "Example 1:\n",
    "\n",
    "Input: s = \"IDID\"\n",
    "\n",
    "Output:\n",
    "\n",
    "[0,4,1,3,2]"
   ]
  },
  {
   "cell_type": "code",
   "execution_count": 15,
   "id": "29ba57e2-dc48-4606-822f-28be1e1b2cc5",
   "metadata": {},
   "outputs": [
    {
     "name": "stdout",
     "output_type": "stream",
     "text": [
      "[0, 4, 1, 3, 2]\n"
     ]
    }
   ],
   "source": [
    "def Permutation(s):\n",
    "    n = len(s)\n",
    "    perm = []\n",
    "    start = 0\n",
    "    end = n\n",
    "\n",
    "    for char in s:\n",
    "        if char == 'I':\n",
    "            perm.append(start)\n",
    "            start += 1\n",
    "        elif char == 'D':\n",
    "            perm.append(end)\n",
    "            end -= 1\n",
    "\n",
    "    perm.append(start)  # or perm.append(end)\n",
    "\n",
    "    return perm\n",
    "s = \"IDID\"\n",
    "reconstructed_perm = Permutation(s)\n",
    "print(reconstructed_perm)"
   ]
  },
  {
   "cell_type": "markdown",
   "id": "5cae39f2-95b8-4337-bb14-5aafcaa5b7cd",
   "metadata": {},
   "source": [
    "Question 2\n",
    "\n",
    "You are given an m x n integer matrix matrix with the following two properties:\n",
    "\n",
    "Each row is sorted in non-decreasing order.\n",
    "The first integer of each row is greater than the last integer of the previous row.\n",
    "Given an integer target, return true if target is in matrix or false otherwise.\n",
    "\n",
    "You must write a solution in O(log(m * n)) time complexity.\n",
    "\n",
    "Example: Input: matrix = [[1,3,5,7],[10,11,16,20],[23,30,34,60]], target = 3\n",
    "\n",
    "Output: true\n"
   ]
  },
  {
   "cell_type": "code",
   "execution_count": 16,
   "id": "2f5533db-679d-4d51-8388-cc61f87dd0b3",
   "metadata": {},
   "outputs": [
    {
     "name": "stdout",
     "output_type": "stream",
     "text": [
      "True\n"
     ]
    }
   ],
   "source": [
    "def Matrix_search(matrix, target):\n",
    "    if not matrix or not matrix[0]:\n",
    "        return False\n",
    "\n",
    "    m, n = len(matrix), len(matrix[0])\n",
    "    l, r = 0, m * n - 1\n",
    "\n",
    "    while l <= r:\n",
    "        mid = (l + r) // 2\n",
    "        row = mid // n\n",
    "        col = mid % n\n",
    "\n",
    "        if matrix[row][col] == target:\n",
    "            return True\n",
    "        elif matrix[row][col] < target:\n",
    "            l = mid + 1\n",
    "        else:\n",
    "            r = mid - 1\n",
    "\n",
    "    return False\n",
    "matrix = [\n",
    "    [1, 3, 5, 7],\n",
    "    [10, 11, 16, 20],\n",
    "    [23, 30, 34, 60]\n",
    "]\n",
    "target = 3\n",
    "\n",
    "print(searchMatrix(matrix, target))"
   ]
  },
  {
   "cell_type": "markdown",
   "id": "f7437619-3c47-4e8e-aefb-fcc5bdd94097",
   "metadata": {},
   "source": [
    "Question 3 Given an array of integers arr, return true if and only if it is a valid mountain array.\n",
    "Recall that arr is a mountain array if and only if:\n",
    "\n",
    "arr.length >= 3\n",
    "\n",
    "There exists some i with 0 < i < arr.length - 1 such that:\n",
    "\n",
    "arr[0] < arr[1] < ... < arr[i - 1] < arr[i]\n",
    "arr[i] > arr[i + 1] > ... > arr[arr.length - 1]\n",
    "Example 1:\n",
    "\n",
    "Input: arr = [2,1]\n",
    "\n",
    "Output:\n",
    "\n",
    "false"
   ]
  },
  {
   "cell_type": "code",
   "execution_count": 17,
   "id": "985eb085-e718-454a-8295-b010c4decb18",
   "metadata": {},
   "outputs": [
    {
     "name": "stdout",
     "output_type": "stream",
     "text": [
      "False\n",
      "False\n",
      "True\n"
     ]
    }
   ],
   "source": [
    "def MountainArray(arr):\n",
    "    if len(arr) < 3:\n",
    "        return False\n",
    "\n",
    "    st, end = 0, len(arr) - 1\n",
    "\n",
    "    while st + 1 < len(arr) and arr[st] < arr[st + 1]:\n",
    "        st += 1\n",
    "\n",
    "    while end > 0 and arr[end - 1] > arr[end]:\n",
    "        end -= 1\n",
    "\n",
    "    return st > 0 and end < len(arr) - 1 and st == end\n",
    "\n",
    "\n",
    "arr1 = [2, 1]\n",
    "print(MountainArray(arr1))  # False\n",
    "\n",
    "arr2 = [3, 5, 5]\n",
    "print(MountainArray(arr2))  # False\n",
    "\n",
    "arr3 = [0, 3, 2, 1]\n",
    "print(MountainArray(arr3))  # True"
   ]
  },
  {
   "cell_type": "markdown",
   "id": "5529d3bf-cec4-45ab-809c-04277bf267fc",
   "metadata": {},
   "source": [
    "Question 4\n",
    "\n",
    "Given a binary array nums, return the maximum length of a contiguous subarray with an equal number of 0 and 1.\n",
    "\n",
    "Example 1:\n",
    "\n",
    "Input: nums = [0,1]\n",
    "\n",
    "Output: 2\n",
    "\n",
    "Explanation:\n",
    "\n",
    "[0, 1] is the longest contiguous subarray with an equal number of 0 and 1.\n"
   ]
  },
  {
   "cell_type": "code",
   "execution_count": 18,
   "id": "f75b4549-3ceb-4ab8-942b-547e816b1df5",
   "metadata": {},
   "outputs": [
    {
     "name": "stdout",
     "output_type": "stream",
     "text": [
      "2\n"
     ]
    }
   ],
   "source": [
    "def MaxLength(nums):\n",
    "    max_len = 0\n",
    "    count = 0\n",
    "    count_dict = {0: -1}\n",
    "\n",
    "    for i, num in enumerate(nums):\n",
    "        count += 1 if num == 0 else -1\n",
    "\n",
    "        if count in count_dict:\n",
    "            max_len = max(max_len, i - count_dict[count])\n",
    "        else:\n",
    "            count_dict[count] = i\n",
    "\n",
    "    return max_len\n",
    "\n",
    "nums = [0, 1]\n",
    "print(MaxLength(nums))"
   ]
  },
  {
   "cell_type": "markdown",
   "id": "ab09f3c8-0d0a-45b1-a49f-89158404506b",
   "metadata": {},
   "source": [
    "Question 5\n",
    "\n",
    "The product sum of two equal-length arrays a and b is equal to the sum of a[i] * b[i] for all 0 <= i < a.length (0-indexed).\n",
    "\n",
    "For example, if a = [1,2,3,4] and b = [5,2,3,1], the product sum would be 15 + 22 + 33 + 41 = 22.\n",
    "Given two arrays nums1 and nums2 of length n, return the minimum product sum* if you are allowed to rearrange the order of the elements in* nums1.\n",
    "\n",
    "Example 1:\n",
    "\n",
    "Input: nums1 = [5,3,4,2], nums2 = [4,2,2,5]\n",
    "\n",
    "Output: 40\n",
    "\n",
    "Explanation:\n",
    "\n",
    "We can rearrange nums1 to become [3,5,4,2]. The product sum of [3,5,4,2] and [4,2,2,5] is 34 + 52 + 42 + 25 = 40."
   ]
  },
  {
   "cell_type": "code",
   "execution_count": 19,
   "id": "99a81589-6261-41ad-9e76-93f8bc9f89ac",
   "metadata": {},
   "outputs": [
    {
     "name": "stdout",
     "output_type": "stream",
     "text": [
      "40\n"
     ]
    }
   ],
   "source": [
    "def min_Prod_Sum(nums1, nums2):\n",
    "    nums1.sort()\n",
    "    nums2.sort(reverse=True)\n",
    "\n",
    "    min_product_sum = 0\n",
    "\n",
    "    for i in range(len(nums1)):\n",
    "        min_product_sum += nums1[i] * nums2[i]\n",
    "\n",
    "    return min_product_sum\n",
    "nums1 = [5, 3, 4, 2]\n",
    "nums2 = [4, 2, 2, 5]\n",
    "print(min_Prod_Sum(nums1, nums2))"
   ]
  },
  {
   "cell_type": "markdown",
   "id": "8db231d7-2c53-4a64-b8b6-bfc5f862da26",
   "metadata": {},
   "source": [
    "Question 6\n",
    "\n",
    "An integer array original is transformed into a doubled array changed by appending twice the value of every element in original, and then randomly shuffling the resulting array.\n",
    "\n",
    "Given an array changed, return original if changed is a doubled* array. If* changed is not a doubled* array, return an empty array. The elements in* original may be returned in any* order*.\n",
    "\n",
    "Example 1:\n",
    "\n",
    "Input: changed = [1,3,4,2,6,8]\n",
    "\n",
    "Output: [1,3,4]\n",
    "\n",
    "Explanation: One possible original array could be [1,3,4]:\n",
    "\n",
    "Twice the value of 1 is 1 * 2 = 2.\n",
    "Twice the value of 3 is 3 * 2 = 6.\n",
    "Twice the value of 4 is 4 * 2 = 8.\n",
    "Other original arrays could be [4,3,1] or [3,1,4].\n"
   ]
  },
  {
   "cell_type": "code",
   "execution_count": 21,
   "id": "f3e6420c-84e2-41a0-b32a-0b30ffd960a9",
   "metadata": {},
   "outputs": [
    {
     "name": "stdout",
     "output_type": "stream",
     "text": [
      "[1, 3, 4]\n"
     ]
    }
   ],
   "source": [
    "def find_Org_Array(nums):\n",
    "    if len(nums) % 2 != 0:\n",
    "        return []\n",
    "\n",
    "    freq = {}\n",
    "    for num in nums:\n",
    "        freq[num] = freq.get(num, 0) + 1\n",
    "\n",
    "    nums.sort()\n",
    "\n",
    "    original = []\n",
    "\n",
    "    for num in nums:\n",
    "        if freq.get(num, 0) > 0 and freq.get(num * 2, 0) > 0:\n",
    "            original.append(num)\n",
    "            freq[num] -= 1\n",
    "            freq[num * 2] -= 1\n",
    "            if freq[num] == 0:\n",
    "                del freq[num]\n",
    "\n",
    "    if len(original) * 2 == len(nums):\n",
    "        return original\n",
    "    else:\n",
    "        return []\n",
    "\n",
    "nums = [1, 3, 4, 2, 6, 8]\n",
    "print(find_Org_Array(nums))"
   ]
  },
  {
   "cell_type": "markdown",
   "id": "c0e47c77-31d1-4053-8b9f-f79f49617ca6",
   "metadata": {},
   "source": [
    "Question 7\n",
    "\n",
    "Given a positive integer n, generate an n x n matrix filled with elements from 1 to n2 in spiral order.\n",
    "\n",
    "Example 1: Input: n = 3\n",
    "\n",
    "Output: [[1,2,3],[8,9,4],[7,6,5]]\n"
   ]
  },
  {
   "cell_type": "code",
   "execution_count": 13,
   "id": "dcc2854d-419b-4f47-adfa-69890804f4f2",
   "metadata": {},
   "outputs": [
    {
     "name": "stdout",
     "output_type": "stream",
     "text": [
      "[[1, 2, 3], [8, 9, 4], [7, 6, 5]]\n"
     ]
    }
   ],
   "source": [
    "def generateMatrix(n):\n",
    "    matrix = [[0] * n for _ in range(n)]\n",
    "    start_row, end_row = 0, n - 1\n",
    "    start_col, end_col = 0, n - 1\n",
    "    num = 1\n",
    "\n",
    "    while start_row <= end_row and start_col <= end_col:\n",
    "        # Fill top row\n",
    "        for col in range(start_col, end_col + 1):\n",
    "            matrix[start_row][col] = num\n",
    "            num += 1\n",
    "        start_row += 1\n",
    "\n",
    "        # Fill right column\n",
    "        for row in range(start_row, end_row + 1):\n",
    "            matrix[row][end_col] = num\n",
    "            num += 1\n",
    "        end_col -= 1\n",
    "\n",
    "        if start_row <= end_row:\n",
    "            # Fill bottom row\n",
    "            for col in range(end_col, start_col - 1, -1):\n",
    "                matrix[end_row][col] = num\n",
    "                num += 1\n",
    "            end_row -= 1\n",
    "\n",
    "        if start_col <= end_col:\n",
    "            # Fill left column\n",
    "            for row in range(end_row, start_row - 1, -1):\n",
    "                matrix[row][start_col] = num\n",
    "                num += 1\n",
    "            start_col += 1\n",
    "\n",
    "    return matrix\n",
    "\n",
    "\n",
    "n = 3\n",
    "print(generateMatrix(n))\n"
   ]
  },
  {
   "cell_type": "markdown",
   "id": "e9068c94-5bf2-4f1f-8232-fb3a13249674",
   "metadata": {},
   "source": [
    "Question 8\n",
    "\n",
    "Given two sparse matrices mat1 of size m x k and mat2 of size k x n, return the result of mat1 x mat2. You may assume that multiplication is always possible.\n",
    "\n",
    "Example 1: Input: mat1 = [[1,0,0],[-1,0,3]], mat2 = [[7,0,0],[0,0,0],[0,0,1]]\n",
    "\n",
    "Output:\n",
    "\n",
    "[[7,0,0],[-7,0,3]]"
   ]
  },
  {
   "cell_type": "code",
   "execution_count": 22,
   "id": "9e84bf77-cc13-4b2b-b1d7-7f893ed500d8",
   "metadata": {},
   "outputs": [
    {
     "name": "stdout",
     "output_type": "stream",
     "text": [
      "[[7, 0, 0], [-7, 0, 3]]\n"
     ]
    }
   ],
   "source": [
    "def multiply_array(mat1, mat2):\n",
    "    m = len(mat1)\n",
    "    k = len(mat1[0])\n",
    "    n = len(mat2[0])\n",
    "\n",
    "    result = [[0] * n for _ in range(m)]\n",
    "\n",
    "    for i in range(m):\n",
    "        for j in range(k):\n",
    "            if mat1[i][j] != 0:\n",
    "                val1 = mat1[i][j]\n",
    "                for k in range(n):\n",
    "                    value2 = mat2[i][k]\n",
    "                    result[i][k] += val1 * value2\n",
    "\n",
    "    return result\n",
    "mat1 = [[1, 0, 0],\n",
    "        [-1, 0, 3]]\n",
    "\n",
    "mat2 = [[7, 0, 0],\n",
    "        [0, 0, 0],\n",
    "        [0, 0, 1]]\n",
    "\n",
    "print(multiply(mat1, mat2))"
   ]
  },
  {
   "cell_type": "code",
   "execution_count": null,
   "id": "ca229160-98c1-4693-af8e-48ae43ff51ab",
   "metadata": {},
   "outputs": [],
   "source": []
  }
 ],
 "metadata": {
  "kernelspec": {
   "display_name": "Python 3 (ipykernel)",
   "language": "python",
   "name": "python3"
  },
  "language_info": {
   "codemirror_mode": {
    "name": "ipython",
    "version": 3
   },
   "file_extension": ".py",
   "mimetype": "text/x-python",
   "name": "python",
   "nbconvert_exporter": "python",
   "pygments_lexer": "ipython3",
   "version": "3.10.8"
  }
 },
 "nbformat": 4,
 "nbformat_minor": 5
}
