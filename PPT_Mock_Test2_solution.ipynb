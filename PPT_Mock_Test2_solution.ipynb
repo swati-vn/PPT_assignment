{
 "cells": [
  {
   "cell_type": "markdown",
   "id": "1cd6ba4c-ff51-4568-b1cf-2a0e829e3ad8",
   "metadata": {},
   "source": [
    "Write a function that takes a list of numbers as input and returns a new list containing only the even numbers from the input list. Use list comprehension to solve this problem.\n",
    "\n",
    "Example:\n",
    "\n",
    "Input: [1, 2, 3, 4, 5, 6, 7, 8, 9, 10]\n",
    "\n",
    "Output: [2, 4, 6, 8, 10]"
   ]
  },
  {
   "cell_type": "code",
   "execution_count": 1,
   "id": "21829df7-d2ca-492a-92bf-7f6cb9e8768b",
   "metadata": {},
   "outputs": [],
   "source": [
    "def even_nums(list):\n",
    "    \n",
    "    new_list = []\n",
    "    for i in list:\n",
    "        if i % 2 == 0:\n",
    "            new_list.append(i)\n",
    "        \n",
    "    return new_list   "
   ]
  },
  {
   "cell_type": "code",
   "execution_count": 2,
   "id": "32bd93b1-1e10-4ae9-ae84-bcb6dc225e6d",
   "metadata": {},
   "outputs": [
    {
     "data": {
      "text/plain": [
       "[2, 4, 6, 8, 10]"
      ]
     },
     "execution_count": 2,
     "metadata": {},
     "output_type": "execute_result"
    }
   ],
   "source": [
    "even_nums([1, 2, 3, 4, 5, 6, 7, 8, 9, 10])"
   ]
  },
  {
   "cell_type": "code",
   "execution_count": null,
   "id": "7c9e7bd8-6b7f-44f0-ab2d-f9f1511a510a",
   "metadata": {},
   "outputs": [],
   "source": []
  }
 ],
 "metadata": {
  "kernelspec": {
   "display_name": "Python 3 (ipykernel)",
   "language": "python",
   "name": "python3"
  },
  "language_info": {
   "codemirror_mode": {
    "name": "ipython",
    "version": 3
   },
   "file_extension": ".py",
   "mimetype": "text/x-python",
   "name": "python",
   "nbconvert_exporter": "python",
   "pygments_lexer": "ipython3",
   "version": "3.10.8"
  }
 },
 "nbformat": 4,
 "nbformat_minor": 5
}
