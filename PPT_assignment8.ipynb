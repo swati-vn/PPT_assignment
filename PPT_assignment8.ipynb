{
 "cells": [
  {
   "cell_type": "markdown",
   "id": "a8ec938f-dd15-43b5-aae7-35bf047cf931",
   "metadata": {},
   "source": [
    "Ques 1.\n",
    "Given two strings s1 and s2, return the lowest ASCII* sum of deleted characters to make two strings equal*.\n",
    "\n",
    "Example 1:\n",
    "\n",
    "Input: s1 = \"sea\", s2 = \"eat\"\n",
    "\n",
    "Output: 231\n",
    "\n",
    "Explanation: Deleting \"s\" from \"sea\" adds the ASCII value of \"s\" (115) to the sum.\n",
    "\n",
    "Deleting \"t\" from \"eat\" adds 116 to the sum.\n",
    "\n",
    "At the end, both strings are equal, and 115 + 116 = 231 is the minimum sum possible to achieve this."
   ]
  },
  {
   "cell_type": "code",
   "execution_count": 1,
   "id": "fb6a2540-da4f-4fff-aba9-590609e400d1",
   "metadata": {},
   "outputs": [
    {
     "name": "stdout",
     "output_type": "stream",
     "text": [
      "231\n"
     ]
    }
   ],
   "source": [
    "def minimumDeleteSum(s1, s2):\n",
    "    m, n = len(s1), len(s2)\n",
    "    dp = [[0] * (n + 1) for _ in range(m + 1)]\n",
    "\n",
    "  \n",
    "    for i in range(1, m + 1):\n",
    "        dp[i][0] = dp[i-1][0] + ord(s1[i-1])\n",
    "    for j in range(1, n + 1):\n",
    "        dp[0][j] = dp[0][j-1] + ord(s2[j-1])\n",
    "\n",
    "  \n",
    "    for i in range(1, m + 1):\n",
    "        for j in range(1, n + 1):\n",
    "            if s1[i-1] == s2[j-1]:\n",
    "                dp[i][j] = dp[i-1][j-1]\n",
    "            else:\n",
    "                dp[i][j] = min(dp[i-1][j] + ord(s1[i-1]),  \n",
    "                               dp[i][j-1] + ord(s2[j-1]),  \n",
    "                               dp[i-1][j-1] + ord(s1[i-1]) + ord(s2[j-1])) \n",
    "\n",
    "    return dp[m][n]\n",
    "s1 = \"sea\"\n",
    "s2 = \"eat\"\n",
    "result = minimumDeleteSum(s1, s2)\n",
    "print(result) "
   ]
  },
  {
   "cell_type": "markdown",
   "id": "25fa771b-8b44-4714-9af1-5b0af3506676",
   "metadata": {},
   "source": [
    "Ques 2.\n",
    "Given a string s containing only three types of characters: '(', ')' and '', return true if* s is valid**.\n",
    "\n",
    "The following rules define a valid string:\n",
    "\n",
    "Any left parenthesis '(' must have a corresponding right parenthesis ')'.\n",
    "Any right parenthesis ')' must have a corresponding left parenthesis '('.\n",
    "Left parenthesis '(' must go before the corresponding right parenthesis ')'.\n",
    "'*' could be treated as a single right parenthesis ')' or a single left parenthesis '(' or an empty string \"\".\n",
    "Example 1:\n",
    "\n",
    "Input: s = \"()\"\n",
    "\n",
    "Output:\n",
    "\n",
    "true"
   ]
  },
  {
   "cell_type": "code",
   "execution_count": 2,
   "id": "f1ac9fad-6d12-4d7d-8800-c480a9fb819e",
   "metadata": {},
   "outputs": [
    {
     "name": "stdout",
     "output_type": "stream",
     "text": [
      "True\n"
     ]
    }
   ],
   "source": [
    "def is_Valid(s):\n",
    "    li = []\n",
    "    star_count = 0\n",
    "\n",
    "    for c in s:\n",
    "        if c == '(' or c == '*':\n",
    "            li.append(c)\n",
    "        elif c == ')':\n",
    "            if li:\n",
    "                li.pop()\n",
    "            elif star_count > 0:\n",
    "                star_count -= 1\n",
    "            else:\n",
    "                return False\n",
    "\n",
    "    while li:\n",
    "        if li.pop() != '(':\n",
    "            if star_count > 0:\n",
    "                star_count -= 1\n",
    "            else:\n",
    "                return False\n",
    "\n",
    "    return True\n",
    "s = \"()\"\n",
    "result = isValid(s)\n",
    "print(result)  "
   ]
  },
  {
   "cell_type": "markdown",
   "id": "070ac503-4ef8-4d85-98dc-f80cfdc0ee87",
   "metadata": {},
   "source": [
    "Ques 3.\n",
    "Given two strings word1 and word2, return the minimum number of steps* required to make* word1 and word2 the same.\n",
    "\n",
    "In one step, you can delete exactly one character in either string.\n",
    "\n",
    "Example 1:\n",
    "\n",
    "Input: word1 = \"sea\", word2 = \"eat\"\n",
    "\n",
    "Output: 2\n",
    "\n",
    "Explanation: You need one step to make \"sea\" to \"ea\" and another step to make \"eat\" to \"ea\"."
   ]
  },
  {
   "cell_type": "code",
   "execution_count": 3,
   "id": "863d0aad-d0ca-4a5c-aa22-65c71b7e6d4e",
   "metadata": {},
   "outputs": [
    {
     "name": "stdout",
     "output_type": "stream",
     "text": [
      "2\n"
     ]
    }
   ],
   "source": [
    "def min_Steps(word1, word2):\n",
    "    m, n = len(word1), len(word2)\n",
    "    dp = [[0] * (n + 1) for _ in range(m + 1)]\n",
    "\n",
    "    # Initialize the first row and column\n",
    "    for i in range(1, m + 1):\n",
    "        dp[i][0] = i\n",
    "    for j in range(1, n + 1):\n",
    "        dp[0][j] = j\n",
    "\n",
    "    for i in range(1, m + 1):\n",
    "        for j in range(1, n + 1):\n",
    "            if word1[i-1] == word2[j-1]:\n",
    "                dp[i][j] = dp[i-1][j-1]\n",
    "            else:\n",
    "                dp[i][j] = min(dp[i-1][j] + 1,  \n",
    "                               dp[i][j-1] + 1)  \n",
    "\n",
    "    return dp[m][n]\n",
    "word1 = \"sea\"\n",
    "word2 = \"eat\"\n",
    "result = min_Steps(word1, word2)\n",
    "print(result)  "
   ]
  },
  {
   "cell_type": "markdown",
   "id": "cf3d921a-1b30-453c-a67a-2cb04a9566d1",
   "metadata": {},
   "source": [
    "Ques 4.\n",
    "You need to construct a binary tree from a string consisting of parenthesis and integers.\n",
    "\n",
    "The whole input represents a binary tree. It contains an integer followed by zero, one or two pairs of parenthesis. The integer represents the root's value and a pair of parenthesis contains a child binary tree with the same structure. You always start to construct the left child node of the parent first if it exists."
   ]
  },
  {
   "cell_type": "code",
   "execution_count": 5,
   "id": "0549396e-70c8-4e3f-96fb-361fb23fe8ca",
   "metadata": {},
   "outputs": [
    {
     "name": "stdout",
     "output_type": "stream",
     "text": [
      "3 2 1 4 5 6 "
     ]
    }
   ],
   "source": [
    "class TreeNode:\n",
    "    def __init__(self, val=0, left=None, right=None):\n",
    "        self.val = val\n",
    "        self.left = left\n",
    "        self.right = right\n",
    "\n",
    "def constructBinaryTree(s):\n",
    "    if not s:\n",
    "        return None\n",
    "\n",
    "    stack = []\n",
    "    root = None\n",
    "    i = 0\n",
    "\n",
    "    while i < len(s):\n",
    "        if s[i] == '(':\n",
    "            i += 1\n",
    "        elif s[i].isdigit() or s[i] == '-':\n",
    "            j = i\n",
    "            while i < len(s) and (s[i].isdigit() or s[i] == '-'):\n",
    "                i += 1\n",
    "            value = int(s[j:i])\n",
    "            node = TreeNode(value)\n",
    "            if stack:\n",
    "                if not stack[-1].left:\n",
    "                    stack[-1].left = node\n",
    "                else:\n",
    "                    stack[-1].right = node\n",
    "            if not root:\n",
    "                root = node\n",
    "            stack.append(node)\n",
    "        elif s[i] == ')':\n",
    "            stack.pop()\n",
    "            i += 1\n",
    "\n",
    "    return root\n",
    "\n",
    "def inorderTraversal(node):\n",
    "    if node:\n",
    "        inorderTraversal(node.left)\n",
    "        print(node.val, end=' ')\n",
    "        inorderTraversal(node.right)\n",
    "\n",
    "s = \"4(2(3)(1))(6(5))\"\n",
    "root = constructBinaryTree(s)\n",
    "\n",
    "inorderTraversal(root)\n"
   ]
  },
  {
   "cell_type": "markdown",
   "id": "4fc02c11-8f64-4804-9a03-946339bd2400",
   "metadata": {},
   "source": [
    "Ques 5.\n",
    "Given an array of characters chars, compress it using the following algorithm:\n",
    "\n",
    "Begin with an empty string s. For each group of consecutive repeating characters in chars:\n",
    "\n",
    "If the group's length is 1, append the character to s.\n",
    "Otherwise, append the character followed by the group's length.\n",
    "The compressed string s should not be returned separately, but instead, be stored in the input character array chars. Note that group lengths that are 10 or longer will be split into multiple characters in chars.\n",
    "\n",
    "After you are done modifying the input array, return the new length of the array.\n",
    "\n",
    "You must write an algorithm that uses only constant extra space.\n",
    "\n",
    "Example 1:\n",
    "\n",
    "Input: chars = [\"a\",\"a\",\"b\",\"b\",\"c\",\"c\",\"c\"]\n",
    "\n",
    "Output: Return 6, and the first 6 characters of the input array should be: [\"a\",\"2\",\"b\",\"2\",\"c\",\"3\"]\n",
    "\n",
    "Explanation:\n",
    "\n",
    "The groups are \"aa\", \"bb\", and \"ccc\". This compresses to \"a2b2c3\"."
   ]
  },
  {
   "cell_type": "code",
   "execution_count": 12,
   "id": "3a11501e-64ed-4e2b-915a-ef84f5a17139",
   "metadata": {},
   "outputs": [
    {
     "name": "stdout",
     "output_type": "stream",
     "text": [
      "6\n",
      "['a', '2', 'b', '2', 'c', '3']\n"
     ]
    }
   ],
   "source": [
    "def compressChar(chars):\n",
    "    readPtr = writePtr = 0\n",
    "    count = 1\n",
    "\n",
    "    for i in range(1, len(chars) + 1):\n",
    "        if i < len(chars) and chars[i] == chars[i - 1]:\n",
    "            count += 1\n",
    "        else:\n",
    "            chars[writePtr] = chars[readPtr]\n",
    "            writePtr += 1\n",
    "            if count > 1:\n",
    "                countStr = str(count)\n",
    "                for digit in countStr:\n",
    "                    chars[writePtr] = digit\n",
    "                    writePtr += 1\n",
    "            count = 1\n",
    "            readPtr = i\n",
    "\n",
    "    return writePtr\n",
    "chars = [\"a\", \"a\", \"b\", \"b\", \"c\", \"c\", \"c\"]\n",
    "newLength = compressChar(chars)\n",
    "compressedChars = chars[:newLength]\n",
    "\n",
    "print(newLength)\n",
    "print(compressedChars)"
   ]
  },
  {
   "cell_type": "markdown",
   "id": "572f5ba3-e788-4a0c-a26c-86e0f2460c08",
   "metadata": {},
   "source": [
    "Ques 6.\n",
    "Given two strings s and p, return an array of all the start indices of p's anagrams in s. You may return the answer in any order.\n",
    "\n",
    "An Anagram is a word or phrase formed by rearranging the letters of a different word or phrase, typically using all the original letters exactly once.\n",
    "\n",
    "Example 1:\n",
    "\n",
    "Input: s = \"cbaebabacd\", p = \"abc\"\n",
    "\n",
    "Output: [0,6]\n",
    "\n",
    "Explanation:\n",
    "\n",
    "The substring with start index = 0 is \"cba\", which is an anagram of \"abc\".\n",
    "\n",
    "The substring with start index = 6 is \"bac\", which is an anagram of \"abc\"."
   ]
  },
  {
   "cell_type": "code",
   "execution_count": 7,
   "id": "a2365833-b354-4606-b07e-d9fc453a17fd",
   "metadata": {},
   "outputs": [
    {
     "name": "stdout",
     "output_type": "stream",
     "text": [
      "[0, 6]\n"
     ]
    }
   ],
   "source": [
    "from collections import Counter\n",
    "\n",
    "def find_Anagrams(s, p):\n",
    "    result = []\n",
    "    targetFreq = Counter(p)\n",
    "    windowFreq = Counter()\n",
    "    left = right = 0\n",
    "    windowSize = len(p)\n",
    "\n",
    "    while right < len(s):\n",
    "        windowFreq[s[right]] += 1\n",
    "\n",
    "        if right - left + 1 == windowSize:\n",
    "            if targetFreq == windowFreq:\n",
    "                result.append(left)\n",
    "\n",
    "            windowFreq[s[left]] -= 1\n",
    "            if windowFreq[s[left]] == 0:\n",
    "                del windowFreq[s[left]]\n",
    "            left += 1\n",
    "\n",
    "        right += 1\n",
    "\n",
    "    return result\n",
    "s = \"cbaebabacd\"\n",
    "p = \"abc\"\n",
    "res = find_Anagrams(s, p)\n",
    "print(res)"
   ]
  },
  {
   "cell_type": "markdown",
   "id": "a55b2c31-4391-4898-8031-f83df00b476a",
   "metadata": {},
   "source": [
    "Ques 7.\n",
    "Given an encoded string, return its decoded string.\n",
    "\n",
    "The encoding rule is: k[encoded_string], where the encoded_string inside the square brackets is being repeated exactly k times. Note that k is guaranteed to be a positive integer.\n",
    "\n",
    "You may assume that the input string is always valid; there are no extra white spaces, square brackets are well-formed, etc. Furthermore, you may assume that the original data does not contain any digits and that digits are only for those repeat numbers, k. For example, there will not be input like 3a or 2[4].\n",
    "\n",
    "The test cases are generated so that the length of the output will never exceed 105.\n",
    "\n",
    "Example 1:\n",
    "\n",
    "Input: s = \"3[a]2[bc]\"\n",
    "\n",
    "Output: \"aaabcbc\""
   ]
  },
  {
   "cell_type": "code",
   "execution_count": 9,
   "id": "57997379-0172-41cd-98b9-1dd089f7cf5f",
   "metadata": {},
   "outputs": [
    {
     "name": "stdout",
     "output_type": "stream",
     "text": [
      "aaabcbc\n"
     ]
    }
   ],
   "source": [
    "def decode_String(s):\n",
    "    stack = []\n",
    "    currStr = \"\"\n",
    "    currNum = 0\n",
    "\n",
    "    for c in s:\n",
    "        if c.isalpha():\n",
    "            currStr += c\n",
    "        elif c.isdigit():\n",
    "            currNum = currNum * 10 + int(c)\n",
    "        elif c == \"[\":\n",
    "            stack.append(currStr)\n",
    "            stack.append(currNum)\n",
    "            currStr = \"\"\n",
    "            currNum = 0\n",
    "        elif c == \"]\":\n",
    "            num = stack.pop()\n",
    "            prevStr = stack.pop()\n",
    "            currStr = prevStr + currStr * num\n",
    "\n",
    "    return currStr\n",
    "\n",
    "\n",
    "s = \"3[a]2[bc]\"\n",
    "decoded_String = decode_String(s)\n",
    "print(decoded_String)"
   ]
  },
  {
   "cell_type": "markdown",
   "id": "233181cf-bfbd-429b-8eef-6faa69e84b54",
   "metadata": {},
   "source": [
    "Question 8\n",
    "Given two strings s and goal, return true if you can swap two letters in s so the result is equal to goal, otherwise, return false.\n",
    "\n",
    "Swapping letters is defined as taking two indices i and j (0-indexed) such that i != j and swapping the characters at s[i] and s[j].\n",
    "\n",
    "For example, swapping at indices 0 and 2 in \"abcd\" results in \"cbad\".\n",
    "Example 1:\n",
    "\n",
    "Input: s = \"ab\", goal = \"ba\"\n",
    "\n",
    "Output: true\n",
    "\n",
    "Explanation: You can swap s[0] = 'a' and s[1] = 'b' to get \"ba\", which is equal to goal."
   ]
  },
  {
   "cell_type": "code",
   "execution_count": 10,
   "id": "01dfe8d1-5646-459c-8fa6-56861558e886",
   "metadata": {},
   "outputs": [
    {
     "name": "stdout",
     "output_type": "stream",
     "text": [
      "True\n"
     ]
    }
   ],
   "source": [
    "def siblingStrings(s, goal):\n",
    "    if len(s) != len(goal):\n",
    "        return False\n",
    "\n",
    "    diffIndices = []\n",
    "    diffChars = []\n",
    "\n",
    "    for i in range(len(s)):\n",
    "        if s[i] != goal[i]:\n",
    "            diffIndices.append(i)\n",
    "            diffChars.append(s[i])\n",
    "\n",
    "    if len(diffIndices) == 0:\n",
    "        return len(set(s)) < len(s)\n",
    "    elif len(diffIndices) == 2:\n",
    "        return diffChars[0] == goal[diffIndices[1]] and diffChars[1] == goal[diffIndices[0]]\n",
    "    else:\n",
    "        return False\n",
    "\n",
    "\n",
    "s = \"ab\"\n",
    "goal = \"ba\"\n",
    "res = siblingStrings(s, goal)\n",
    "print(res)"
   ]
  },
  {
   "cell_type": "code",
   "execution_count": null,
   "id": "867c491a-f99f-455d-9d44-79a32d965eab",
   "metadata": {},
   "outputs": [],
   "source": []
  }
 ],
 "metadata": {
  "kernelspec": {
   "display_name": "Python 3 (ipykernel)",
   "language": "python",
   "name": "python3"
  },
  "language_info": {
   "codemirror_mode": {
    "name": "ipython",
    "version": 3
   },
   "file_extension": ".py",
   "mimetype": "text/x-python",
   "name": "python",
   "nbconvert_exporter": "python",
   "pygments_lexer": "ipython3",
   "version": "3.10.8"
  }
 },
 "nbformat": 4,
 "nbformat_minor": 5
}
