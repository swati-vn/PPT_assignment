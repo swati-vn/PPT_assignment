{
 "cells": [
  {
   "cell_type": "markdown",
   "id": "f8a3b1cd-636d-4993-be1f-22f1086d342f",
   "metadata": {},
   "source": [
    "Ques 1.\n",
    "Given two strings s and t, determine if they are isomorphic.\n",
    "\n",
    "Two strings s and t are isomorphic if the characters in s can be replaced to get t.\n",
    "\n",
    "All occurrences of a character must be replaced with another character while preserving the order of characters. No two characters may map to the same character, but a character may map to itself.\n",
    "\n",
    "Example 1:\n",
    "\n",
    "Input: s = \"egg\", t = \"add\"\n",
    "\n",
    "Output: true"
   ]
  },
  {
   "cell_type": "code",
   "execution_count": 5,
   "id": "0b6a1000-f834-455d-9865-b8b9c2e6c853",
   "metadata": {},
   "outputs": [
    {
     "name": "stdout",
     "output_type": "stream",
     "text": [
      "True\n"
     ]
    }
   ],
   "source": [
    "def isomorphic_string(s, t):\n",
    "    if len(s) != len(t):\n",
    "        return False\n",
    "\n",
    "    s_to_t = {}\n",
    "    t_to_s = {}\n",
    "\n",
    "    for s_ch, t_ch in zip(s, t):\n",
    "        if s_ch in s_to_t and t_ch in t_to_s:\n",
    "            if s_to_t[s_ch] != t_ch or t_to_s[t_ch] != s_ch:\n",
    "                return False\n",
    "        elif s_ch not in s_to_t and t_ch not in t_to_s:\n",
    "            s_to_t[s_ch] = t_ch\n",
    "            t_to_s[t_ch] = s_ch\n",
    "        else:\n",
    "            return False\n",
    "\n",
    "    return True\n",
    "\n",
    "\n",
    "s = \"egg\"\n",
    "t = \"add\"\n",
    "print(isomorphic_strings(s, t))  "
   ]
  },
  {
   "cell_type": "markdown",
   "id": "8ef23e31-f557-4c78-9a07-19e90bbdb043",
   "metadata": {},
   "source": [
    "Ques2.\n",
    "Given a string num which represents an integer, return true if num is a strobogrammatic number**.\n",
    "\n",
    "A strobogrammatic number is a number that looks the same when rotated 180 degrees (looked at upside down).\n",
    "\n",
    "Example 1:\n",
    "\n",
    "Input: num = \"69\"\n",
    "\n",
    "Output:\n",
    "\n",
    "true"
   ]
  },
  {
   "cell_type": "code",
   "execution_count": 6,
   "id": "a522ac98-918e-40a4-88b9-271430584502",
   "metadata": {},
   "outputs": [
    {
     "name": "stdout",
     "output_type": "stream",
     "text": [
      "True\n"
     ]
    }
   ],
   "source": [
    "def isStrobogrammatic(num):\n",
    "    \n",
    "    start, end = 0, len(num) - 1\n",
    "    while start <= end:\n",
    "        \n",
    "        if not is_valid_pair(num[start], num[end]):\n",
    "            return False\n",
    "        \n",
    "        start += 1\n",
    "        end -= 1\n",
    "        \n",
    "    return True\n",
    "\n",
    "\n",
    "def is_valid_pair(a, b):\n",
    "    valid_pairs = {\n",
    "        \n",
    "        \"0\": \"0\",\n",
    "        \"1\": \"1\",\n",
    "        \"6\": \"9\",\n",
    "        \"8\": \"8\",\n",
    "        \"9\": \"6\"\n",
    "        \n",
    "    }\n",
    "    \n",
    "    return a in valid_pairs and valid_pairs[a] == b\n",
    "\n",
    "\n",
    "num = \"69\"\n",
    "print(isStrobogrammatic(num))"
   ]
  },
  {
   "cell_type": "markdown",
   "id": "3484c9dd-d5d1-45a7-a4f2-3b40a02d4823",
   "metadata": {},
   "source": [
    "Ques 3.\n",
    "Given two non-negative integers, num1 and num2 represented as string, return the sum of num1 and num2 as a string.\n",
    "\n",
    "You must solve the problem without using any built-in library for handling large integers (such as BigInteger). You must also not convert the inputs to integers directly.\n",
    "\n",
    "Example 1:\n",
    "\n",
    "Input: num1 = \"11\", num2 = \"123\"\n",
    "\n",
    "Output:\n",
    "\n",
    "\"134\""
   ]
  },
  {
   "cell_type": "code",
   "execution_count": null,
   "id": "867d8ffe-b573-4f61-9156-b85d0bc2ebd8",
   "metadata": {},
   "outputs": [],
   "source": [
    "def add_Strings(num1, num2):\n",
    "    res = []\n",
    "    i = len(num1) - 1\n",
    "    j = len(num2) - 1\n",
    "    car = 0\n",
    "\n",
    "    while i >= 0 or j >= 0 or carry > 0:\n",
    "        x = int(num1[i]) if i >= 0 else 0\n",
    "        y = int(num2[j]) if j >= 0 else 0\n",
    "\n",
    "        sum = x + y + car\n",
    "        car = sum // 10\n",
    "        sum %= 10\n",
    "\n",
    "        res.insert(0, str(sum))\n",
    "\n",
    "        i -= 1\n",
    "        j -= 1\n",
    "\n",
    "    return \"\".join(res)\n",
    "\n",
    "\n",
    "num1 = \"11\"\n",
    "num2 = \"123\"\n",
    "print(add_Strings(num1, num2))  "
   ]
  },
  {
   "cell_type": "markdown",
   "id": "53b6b98b-c70d-49d3-b6e3-8c15295e84d7",
   "metadata": {},
   "source": [
    "Ques 4.\n",
    "Given a string s, reverse the order of characters in each word within a sentence while still preserving whitespace and initial word order.\n",
    "\n",
    "Example 1:\n",
    "\n",
    "Input: s = \"Let's take LeetCode contest\"\n",
    "\n",
    "Output: \"s'teL ekat edoCteeL tsetnoc\""
   ]
  },
  {
   "cell_type": "code",
   "execution_count": null,
   "id": "440ebc6f-dad3-4c85-bdf2-cc84b80533b3",
   "metadata": {},
   "outputs": [],
   "source": [
    "def reverseSentence(s):\n",
    "    word = s.split()\n",
    "    rev_words = []\n",
    "\n",
    "    for word in words:\n",
    "        rev_word = word[::-1]\n",
    "        rev_words.append(rev_word)\n",
    "\n",
    "    return \" \".join(rev_words)\n",
    "\n",
    "# Test the function\n",
    "s = \"Let's take LeetCode contest\"\n",
    "print(reverseSentence(s))  "
   ]
  },
  {
   "cell_type": "markdown",
   "id": "fd1d9252-61ac-4dd6-89e2-b035461d9c34",
   "metadata": {},
   "source": [
    "Ques 5\n",
    "Given a string s and an integer k, reverse the first k characters for every 2k characters counting from the start of the string.\n",
    "\n",
    "If there are fewer than k characters left, reverse all of them. If there are less than 2k but greater than or equal to k characters, then reverse the first k characters and leave the other as original.\n",
    "\n",
    "Example 1:\n",
    "\n",
    "Input: s = \"abcdefg\", k = 2\n",
    "\n",
    "Output:\n",
    "\n",
    "\"bacdfeg\""
   ]
  },
  {
   "cell_type": "code",
   "execution_count": 9,
   "id": "0bee28c1-399b-45ba-8dd0-ca678e1ae2f4",
   "metadata": {},
   "outputs": [
    {
     "name": "stdout",
     "output_type": "stream",
     "text": [
      "bacdfeg\n"
     ]
    }
   ],
   "source": [
    "\n",
    "\n",
    "def rev_Str(s, k):\n",
    "    \n",
    "    char_list = list(s)\n",
    "    i = 0\n",
    "\n",
    "    while i < len(s):\n",
    "        if i + k <= len(s):\n",
    "            char_list[i:i+k] = char_list[i:i+k][::-1]\n",
    "        else:\n",
    "            char_list[i:] = char_list[i:][::-1]\n",
    "        i += 2 * k\n",
    "\n",
    "    return \"\".join(char_list)\n",
    "\n",
    "\n",
    "s = \"abcdefg\"\n",
    "k = 2\n",
    "print(rev_Str(s, k)) "
   ]
  },
  {
   "cell_type": "markdown",
   "id": "5b195293-df0b-4359-bb2f-35ccb27a0613",
   "metadata": {},
   "source": [
    "Ques 6.\n",
    "Given two strings s and goal, return true if and only if s can become goal after some number of shifts* on* s.\n",
    "\n",
    "A shift on s consists of moving the leftmost character of s to the rightmost position.\n",
    "\n",
    "For example, if s = \"abcde\", then it will be \"bcdea\" after one shift.\n",
    "Example 1:\n",
    "\n",
    "Input: s = \"abcde\", goal = \"cdeab\"\n",
    "\n",
    "Output:\n",
    "\n",
    "true"
   ]
  },
  {
   "cell_type": "code",
   "execution_count": 10,
   "id": "9e24f8da-11f6-404c-850f-d753b24a7443",
   "metadata": {},
   "outputs": [
    {
     "name": "stdout",
     "output_type": "stream",
     "text": [
      "True\n"
     ]
    }
   ],
   "source": [
    "\n",
    "\n",
    "def rotate_String(s, goal):\n",
    "    if len(s) != len(goal):\n",
    "        return False\n",
    "\n",
    "    concat = s + s\n",
    "\n",
    "    return goal in concat\n",
    "\n",
    "\n",
    "s = \"abcde\"\n",
    "goal = \"cdeab\"\n",
    "print(rotate_String(s, goal))  "
   ]
  },
  {
   "cell_type": "markdown",
   "id": "2e9a87a8-d2d1-4fed-8f07-670b2b0b22a3",
   "metadata": {},
   "source": [
    "Q7.Given two strings s and t, return true if they are equal when both are typed into empty text editors. '#' means a backspace character.\n",
    "\n",
    "Note that after backspacing an empty text, the text will continue empty.\n",
    "\n",
    "Example 1:\n",
    "\n",
    "Input: s = \"ab#c\", t = \"ad#c\"\n",
    "\n",
    "Output: true\n",
    "\n",
    "Explanation:\n",
    "\n",
    "Both s and t become \"ac\".\n"
   ]
  },
  {
   "cell_type": "code",
   "execution_count": null,
   "id": "970d9243-bee2-48c5-b454-c757626012db",
   "metadata": {},
   "outputs": [],
   "source": [
    "\n",
    "def Compare_backspace(s, t):\n",
    "    li1 = []\n",
    "    li2 = []\n",
    "\n",
    "    for c in s:\n",
    "        if c != '#':\n",
    "            li1.append(c)\n",
    "        elif li1:\n",
    "            li1.pop()\n",
    "\n",
    "    for c in t:\n",
    "        if c != '#':\n",
    "            li2.append(c)\n",
    "        elif li2:\n",
    "            li2.pop()\n",
    "\n",
    "    return li1 == li2\n",
    "\n",
    "\n",
    "s = \"ab#c\"\n",
    "t = \"ad#c\"\n",
    "print(Compare_backspace(s, t))  "
   ]
  },
  {
   "cell_type": "markdown",
   "id": "77ef2aa4-22a7-4dd2-a024-4f3f61bab168",
   "metadata": {},
   "source": [
    "Ques 8.\n",
    "You are given an array coordinates, coordinates[i] = [x, y], where [x, y] represents the coordinate of a point. Check if these points make a straight line in the XY plane.\n"
   ]
  },
  {
   "cell_type": "code",
   "execution_count": null,
   "id": "5b403bc5-6ae5-47e2-bb62-09183fa90e7b",
   "metadata": {},
   "outputs": [],
   "source": [
    "def checkStraightLine(coordinates):\n",
    "    if len(coordinates) <= 2:\n",
    "        return True\n",
    "\n",
    "    x1, y1 = coordinates[0]\n",
    "    x2, y2 = coordinates[1]\n",
    "\n",
    "    starting_slope = (y2 - y1) / (x2 - x1)\n",
    "\n",
    "    for i in range(2, len(coordinates)):\n",
    "        x, y = coordinates[i]\n",
    "        current_slope = (y - y1) / (x - x1)\n",
    "\n",
    "        if current_slope != starting_slope:\n",
    "            return False\n",
    "\n",
    "    return True\n",
    "\n",
    "\n",
    "coordinates = [[1, 2], [2, 3], [3, 4], [4, 5], [5, 6]]\n",
    "print(checkStraightLine(coordinates))  "
   ]
  },
  {
   "cell_type": "code",
   "execution_count": null,
   "id": "02613f24-edfb-4331-b7f7-c9c4e35f6a57",
   "metadata": {},
   "outputs": [],
   "source": []
  }
 ],
 "metadata": {
  "kernelspec": {
   "display_name": "Python 3 (ipykernel)",
   "language": "python",
   "name": "python3"
  },
  "language_info": {
   "codemirror_mode": {
    "name": "ipython",
    "version": 3
   },
   "file_extension": ".py",
   "mimetype": "text/x-python",
   "name": "python",
   "nbconvert_exporter": "python",
   "pygments_lexer": "ipython3",
   "version": "3.10.8"
  }
 },
 "nbformat": 4,
 "nbformat_minor": 5
}
