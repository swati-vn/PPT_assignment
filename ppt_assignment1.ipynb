{
 "cells": [
  {
   "cell_type": "markdown",
   "id": "c436ba81-b961-4724-be15-1ac470bdc9d7",
   "metadata": {},
   "source": [
    "<aside>\n",
    "💡 **Q1.** Given an array of integers nums and an integer target, return indices of the two numbers such that they add up to target.\n",
    "\n",
    "You may assume that each input would have exactly one solution, and you may not use the same element twice.\n",
    "\n",
    "You can return the answer in any order.\n",
    "\n",
    "**Example:**\n",
    "Input: nums = [2,7,11,15], target = 9\n",
    "Output0 [0,1]\n",
    "\n",
    "**Explanation:** Because nums[0] + nums[1] == 9, we return [0, 1][\n",
    "\n",
    "</aside>"
   ]
  },
  {
   "cell_type": "code",
   "execution_count": 1,
   "id": "d3b929f7-4fe0-4a2b-a69b-dead02f1541f",
   "metadata": {},
   "outputs": [
    {
     "name": "stdout",
     "output_type": "stream",
     "text": [
      "[0, 1]\n"
     ]
    }
   ],
   "source": [
    "def Sum_of_indices(num, target):\n",
    "    complement_dict = {}\n",
    "    for i, n in enumerate(num):\n",
    "        complement = target - n\n",
    "        if complement in complement_dict:\n",
    "            return [complement_dict[complement], i]\n",
    "        complement_dict[n] = i\n",
    "    return []\n",
    "num = [2, 7, 11, 15]\n",
    "target = 9\n",
    "print(Sum_of_indices(num, target))"
   ]
  },
  {
   "cell_type": "markdown",
   "id": "6b239c20-ff49-4f0a-8814-5be686a11b9d",
   "metadata": {},
   "source": [
    "Q2. Given an integer array nums and an integer val, remove all occurrences of val in nums in-place. The order of the elements may be changed. Then return the number of elements in nums which are not equal to val. Consider the number of elements in nums which are not equal to val be k, to get accepted, you need to do the following things: Change the array nums such that the first k elements of nums contain the elements which are not equal to val. The remaining elements of nums are not important as well as the size of nums. Return k.\n",
    "\n",
    "1.Initialize a variable k to 0 to keep track of the count of elements not equal to val.\n",
    "2.Iterate through the array nums.\n",
    "3.If the current element is not equal to val, move it to the left side of the array by assigning it to nums[k], and increment k by 1.\n",
    "4.After iterating through the entire array, the first k elements of nums will contain the elements that are not equal to val, and the remaining elements are not important.\n",
    "5.Return the value of k."
   ]
  },
  {
   "cell_type": "code",
   "execution_count": 2,
   "id": "1e5bc2a2-b26e-40d2-a825-4cbb1a437869",
   "metadata": {},
   "outputs": [],
   "source": [
    "def removeOccurance(num, val):\n",
    "    k = 0  \n",
    "\n",
    "    for i in range(len(num)):\n",
    "        if num[i] != val:\n",
    "            num[k] = num[i]\n",
    "            k += 1\n",
    "\n",
    "    for i in range(k, len(num)):\n",
    "        num[i] = '_'\n",
    "\n",
    "    return k"
   ]
  },
  {
   "cell_type": "code",
   "execution_count": 3,
   "id": "8b1bfbbf-bb10-44ef-99cd-3b30531c27b5",
   "metadata": {},
   "outputs": [
    {
     "data": {
      "text/plain": [
       "2"
      ]
     },
     "execution_count": 3,
     "metadata": {},
     "output_type": "execute_result"
    }
   ],
   "source": [
    "removeOccurance([3,2,2,3],3)"
   ]
  },
  {
   "cell_type": "markdown",
   "id": "59697aad-145a-4f87-ac1f-cd3bebe2c176",
   "metadata": {},
   "source": [
    "Q3. Given a sorted array of distinct integers and a target value, return the index if the target is found. If not, return the index where it would be if it were inserted in order. You must write an algorithm with O(log n) runtime complexity.\n",
    "\n",
    "Algorithm:- 1. Initialize two pointers , left & right , representing the start and end of the search range in array 2. While left is less than or equal to right a) calculate the middle index (left+right)//2 b) if the value at middle index is equal to the target, return the middle index c) if the value at the middle index is less than the target, update left to mid+1 to search the right half of the array d) if the value at the middle index is greater than the target, update right to mid-1 to search left half od the array\n",
    "\n",
    "3. if the target is not found in the array, return the value of left as the index where the target would be inserted\n",
    "Time Complexity: O(logn)"
   ]
  },
  {
   "cell_type": "code",
   "execution_count": 4,
   "id": "40136e9c-0757-4df5-95e4-8988ecb12ffe",
   "metadata": {},
   "outputs": [],
   "source": [
    "def search_Insert(num,target):\n",
    "    left=0\n",
    "    right=len(num)-1\n",
    "    while(left<=right):\n",
    "        mid=(left+right)//2\n",
    "        if num[mid]==target:\n",
    "            return mid\n",
    "        elif num[mid]<target:\n",
    "            left=mid+1\n",
    "        else:\n",
    "            right=mid-1\n",
    "    return left"
   ]
  },
  {
   "cell_type": "code",
   "execution_count": 5,
   "id": "3d7e14e9-06b7-4574-927b-1fda6e07d8d4",
   "metadata": {},
   "outputs": [
    {
     "data": {
      "text/plain": [
       "2"
      ]
     },
     "execution_count": 5,
     "metadata": {},
     "output_type": "execute_result"
    }
   ],
   "source": [
    "search_Insert([1,3,5,6],5)"
   ]
  },
  {
   "cell_type": "markdown",
   "id": "b62d71c0-03c3-4f32-a5a4-c8275b800868",
   "metadata": {},
   "source": [
    "Q4. You are given a large integer represented as an integer array digits, where each digits[i] is the ith digit of the integer. The digits are ordered from most significant to least significant in left-to-right order. The large integer does not contain any leading 0's. Increment the large integer by one and return the resulting array of digits.\n",
    "\n",
    "Algorithm: 1. Initialize a variable carry to 1, representing initial carry value 2. Itirate over the digits in reverse order, starting from the least significant digit. a) add the carry to the current digit b) update the carry by dividing the sum by 10. c) update the current digit to the remainder of the sum divided by 10. 3. after the loop, if there is still a non-zero carry, insert it at the beginning of the array. 4. return the updated array of digits. Time Complexity: O(n)"
   ]
  },
  {
   "cell_type": "code",
   "execution_count": 6,
   "id": "687ff46d-22c2-4bde-9fa3-da1dd38d28c6",
   "metadata": {},
   "outputs": [],
   "source": [
    "def plusOne(digits):\n",
    "    size=len(digits)\n",
    "    carry=1\n",
    "    for i in range(size-1,-1,-1):\n",
    "        digits[i]+=carry\n",
    "        carry=digits[i]//10\n",
    "        digits[i]%=10\n",
    "    if carry:\n",
    "        digits.insert(0,carry)\n",
    "    return digits"
   ]
  },
  {
   "cell_type": "code",
   "execution_count": 7,
   "id": "33b444fb-6d2e-4644-a94d-ece96a7440fa",
   "metadata": {},
   "outputs": [
    {
     "name": "stdout",
     "output_type": "stream",
     "text": [
      "[1, 2, 4]\n"
     ]
    }
   ],
   "source": [
    "digits=[1,2,3]\n",
    "result=plusOne(digits)\n",
    "print(result)"
   ]
  },
  {
   "cell_type": "markdown",
   "id": "2998244c-e3b9-4c6c-ae93-219632f48334",
   "metadata": {},
   "source": [
    "Q5. You are given two integer arrays nums1 and nums2, sorted in non-decreasing order, and two integers m and n, representing the number of elements in nums1 and nums2 respectively. Merge nums1 and nums2 into a single array sorted in non-decreasing order. The final sorted array should not be returned by the function, but instead be stored inside the array nums1. To accommodate this, nums1 has a length of m + n, where the first m elements denote the elements that should be merged, and the last n elements are set to 0 and should be ignored. nums2 has a length of n.\n",
    "\n",
    "Algorithm: 1.initialize 3 pointers p1- for num1, p2- for num2, p- for merged array. set p1- to m-1(index of the last element in num1) set p1- to n-1(index of the last element in num2) set p- to m+n-1(index of the last element in the merged array) 2. compare the elements num1[p1] and num2[p2] and place the largest element at nums1[p]. Decrement the corresponding pointer p by 1. 3. repeat setp 2 until either p1 or p2 becoms less than 0 4. if there are remaining elements in nums2 after the above comparison, copy them to the beginning of the nums1,upto the index of p2+1\n",
    "\n",
    "Time Complexity: O(m+n)"
   ]
  },
  {
   "cell_type": "code",
   "execution_count": 9,
   "id": "b4904e11-992d-44bc-81c8-c72037c7ac1a",
   "metadata": {},
   "outputs": [],
   "source": [
    "def merge_array(arr1,m,arr2,n):\n",
    "    \n",
    "    p1=m-1\n",
    "    p2=n-1\n",
    "    p=m+n-1\n",
    "    \n",
    "    while p1>=0 and p2>=0:\n",
    "        if arr1[p1]>arr2[p2]:\n",
    "            arr1[p]=arr1[p1]\n",
    "            p1-=1\n",
    "        else:\n",
    "            arr1[p]=arr2[p2]\n",
    "            p2-=1\n",
    "        p-=1\n",
    "                \n",
    "    arr1[:p2+1]=arr2[:p2+1]"
   ]
  },
  {
   "cell_type": "code",
   "execution_count": 10,
   "id": "279f6035-9d75-4d97-87d0-dd0a6a85d8ba",
   "metadata": {},
   "outputs": [
    {
     "name": "stdout",
     "output_type": "stream",
     "text": [
      "[1, 2, 2, 3, 5, 6]\n"
     ]
    }
   ],
   "source": [
    "arr1=[1,2,3,0,0,0]\n",
    "m=3\n",
    "arr2=[2,5,6]\n",
    "n=3\n",
    "merge_array(arr1,m,arr2,n)\n",
    "print(arr1)"
   ]
  },
  {
   "cell_type": "markdown",
   "id": "f387c542-0422-49d8-b502-f9274d3a9c5d",
   "metadata": {},
   "source": [
    "Q6. Given an integer array nums, return true if any value appears at least twice in the array, and return false if every element is distinct.\n",
    "\n",
    "Algorithm: 1. Initialize an empty hash set called seen to store the unique elements 2. iterate through the elements in the array nums 3. for each element in num, check if it is already present in the seen set a) if it is return True, as we have found duplicate element b) if it is not, add the elements to the seen set. 4. if the loop completes without finding any duplicate, return False Time Complexity: O(n)- since it iterate through the array once"
   ]
  },
  {
   "cell_type": "code",
   "execution_count": 14,
   "id": "19977291-e780-412d-b9b2-8bffb0d531c6",
   "metadata": {},
   "outputs": [],
   "source": [
    "def containsDuplicate(nums):\n",
    "    l=set()\n",
    "    for num in nums:\n",
    "        if num in l:\n",
    "            return True\n",
    "        l.add(num)\n",
    "    return False"
   ]
  },
  {
   "cell_type": "code",
   "execution_count": 15,
   "id": "96689860-dd66-4bce-908c-a869183cead1",
   "metadata": {},
   "outputs": [
    {
     "data": {
      "text/plain": [
       "True"
      ]
     },
     "execution_count": 15,
     "metadata": {},
     "output_type": "execute_result"
    }
   ],
   "source": [
    "containsDuplicate([1,2,3,1])"
   ]
  },
  {
   "cell_type": "code",
   "execution_count": 16,
   "id": "44923984-02cf-4708-b336-b01c83647420",
   "metadata": {},
   "outputs": [
    {
     "data": {
      "text/plain": [
       "False"
      ]
     },
     "execution_count": 16,
     "metadata": {},
     "output_type": "execute_result"
    }
   ],
   "source": [
    "containsDuplicate([1,2,3,4])"
   ]
  },
  {
   "cell_type": "markdown",
   "id": "0aa64d0d-4beb-467b-8d1c-133298ccd203",
   "metadata": {},
   "source": [
    "Q7. Given an integer array nums, move all 0's to the end of it while maintaining the relative order of the nonzero elements.\n",
    "\n",
    "Algorithm: 1. initialize a pointer left to keep track of the index where the next non-zero element should be replace 2. iterate through array nums 3. if the current element is non zero, place it at the left index and increment left by 1. 4. after loop, all non-zero elements have been moved to left side of the array, and the left pointer points to the index where the next zero element should be replace. 5. iterate from left to the end of the array and set all elements to zero.\n",
    "\n",
    "Time complexity: O(n)"
   ]
  },
  {
   "cell_type": "code",
   "execution_count": 20,
   "id": "58b2799a-ef4d-4b61-ae17-cdd092bc5964",
   "metadata": {},
   "outputs": [],
   "source": [
    "def move_Zeros(nums):\n",
    "    l=0 \n",
    "\n",
    "    \n",
    "    for i in range(len(nums)):\n",
    "        if nums[i]!=0:\n",
    "            nums[l]=nums[i]\n",
    "            l+=1\n",
    "    \n",
    "    for i in range(l,len(nums)):\n",
    "        nums[i]=0\n",
    "        "
   ]
  },
  {
   "cell_type": "code",
   "execution_count": 21,
   "id": "7b31ec9d-2bd9-426e-9ffe-7b71c19cd95f",
   "metadata": {},
   "outputs": [
    {
     "name": "stdout",
     "output_type": "stream",
     "text": [
      "[1, 3, 12, 0, 0, 0]\n"
     ]
    }
   ],
   "source": [
    "nums=[0,1,0,3,12,0]\n",
    "move_Zeros(nums)\n",
    "print(nums)"
   ]
  },
  {
   "cell_type": "markdown",
   "id": "fa1c9c8f-7a62-4056-af28-06e1b87d1b57",
   "metadata": {},
   "source": [
    "Q8. You have a set of integers s, which originally contains all the numbers from 1 to n. Unfortunately, due to some error, one of the numbers in s got duplicated to another number in the set, which results in repetition of one number and loss of another number. You are given an integer array nums representing the data status of this set after the error. Find the number that occurs twice and the number that is missing and return them in the form of an array.\n",
    "\n",
    "Algorithm: 1. Calculate the XOR of all elements in nums and numbers from 1 to n. This will give us the XOR of the missing number and the duplicate number. 2. Find the rightmost set bit in the XOR result. 3. Separate the numbers in nums into two groups based on whether their corresponding bit at the rightmost set bit position is set or not. 4. Separate the numbers from 1 to n into two groups based on the same criteria.\n",
    "\n",
    "5. XOR the numbers in each group separately to find the missing number and the duplicate number.\n",
    "\n",
    "6.Check if the missing number or the duplicate number is present in nums.\n",
    "\n",
    "7.Return the result as an array [duplicate_num, missing_num].\n",
    "Time Complexity: O(n)"
   ]
  },
  {
   "cell_type": "code",
   "execution_count": 35,
   "id": "f20f22ee-a0e2-4378-96c7-6156b23c827b",
   "metadata": {},
   "outputs": [],
   "source": [
    "def find_Error_in_Nums(nums):\n",
    "    xor = 0\n",
    "    n = len(nums)\n",
    "\n",
    "    for i in range(1, n + 1):\n",
    "        xor ^= i\n",
    "    for i in nums:\n",
    "        xor ^= i\n",
    "\n",
    "    rightmost_bit = xor & (-xor)\n",
    "\n",
    "    missing_num = 0\n",
    "    duplicate_num = 0\n",
    "\n",
    "    for i in range(n):\n",
    "        if nums[i] & rightmost_bit:\n",
    "            missing_num ^= nums[i]\n",
    "        else:\n",
    "            duplicate_num ^= nums[i]\n",
    "\n",
    "    for i in range(1, n + 1):\n",
    "        if i & rightmost_bit:\n",
    "            missing_num ^= i\n",
    "        else:\n",
    "            duplicate_num ^= i\n",
    "\n",
    "    for num in nums:\n",
    "        if num == missing_num:\n",
    "            return [missing_num, duplicate_num]\n",
    "        if num == duplicate_num:\n",
    "            return [duplicate_num, missing_num]\n",
    "\n",
    "    return []  \n",
    "           "
   ]
  },
  {
   "cell_type": "code",
   "execution_count": 36,
   "id": "4e9680bb-c8a2-4458-9712-d8459f338081",
   "metadata": {},
   "outputs": [
    {
     "name": "stdout",
     "output_type": "stream",
     "text": [
      "[2, 3]\n"
     ]
    },
    {
     "data": {
      "text/plain": [
       "[2, 3]"
      ]
     },
     "execution_count": 36,
     "metadata": {},
     "output_type": "execute_result"
    }
   ],
   "source": [
    "nums = [1, 2, 2, 4]\n",
    "res = find_Error_in_Nums(nums)\n",
    "print(res)  \n",
    "[2, 3]"
   ]
  },
  {
   "cell_type": "code",
   "execution_count": null,
   "id": "d509bee8-5537-436a-b59d-84ca7d60d27e",
   "metadata": {},
   "outputs": [],
   "source": []
  }
 ],
 "metadata": {
  "kernelspec": {
   "display_name": "Python 3 (ipykernel)",
   "language": "python",
   "name": "python3"
  },
  "language_info": {
   "codemirror_mode": {
    "name": "ipython",
    "version": 3
   },
   "file_extension": ".py",
   "mimetype": "text/x-python",
   "name": "python",
   "nbconvert_exporter": "python",
   "pygments_lexer": "ipython3",
   "version": "3.10.8"
  }
 },
 "nbformat": 4,
 "nbformat_minor": 5
}
